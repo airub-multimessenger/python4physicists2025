{
 "cells": [
  {
   "cell_type": "markdown",
   "id": "aee32c33-62eb-4bd1-9bf4-a74a8b5d1503",
   "metadata": {},
   "source": [
    "# Homework 1"
   ]
  },
  {
   "cell_type": "markdown",
   "id": "a7ad4d13-4b74-4e32-87bf-63bad462a602",
   "metadata": {},
   "source": [
    "## Name:"
   ]
  },
  {
   "cell_type": "markdown",
   "id": "2fb1e0fe-2e70-4369-a4b0-176ecf986571",
   "metadata": {},
   "source": [
    "# Problem 1 (2.5 P)"
   ]
  },
  {
   "cell_type": "markdown",
   "id": "b8c90330-aed9-4d5c-8ccb-eed151cf29b6",
   "metadata": {},
   "source": [
    "In this task, four cylinders are considered which slightly differ in size. For each cylinder, the height $h_i$ and the diameter $d_i$ are measured and summarized in the following: \n",
    "\n",
    "- $h_1$ = 10.67 cm; $d_1$ = 4.65 cm\n",
    "- $h_2$ = 11.01 cm; $d_2$ = 5.55 cm\n",
    "- $h_3$ = 9.67 cm; $d_3$ = 5.01 cm\n",
    "- $h_4$ = 11.40 cm; $d_4$ = 5.89 cm\n",
    "\n"
   ]
  },
  {
   "cell_type": "markdown",
   "id": "559cc688-81a1-43e0-a50b-bdb2a00cfaee",
   "metadata": {},
   "source": [
    "**(A)** First, calculate the volume of each cylinder. To do this, enter the values in a list for the heights and a list for the diameters, so that you have a clearer overview and can simply use the list index in your calculations. For simplicity, you can use $\\pi$ = 3.14 in all calculations. Print each result and round the result to two decimal places using the built-in  ```round()```  function. **(1 P)**"
   ]
  },
  {
   "cell_type": "code",
   "execution_count": null,
   "id": "ac1aefb8-1586-4996-804a-5bc65f0365c7",
   "metadata": {},
   "outputs": [],
   "source": [
    "# Your solution"
   ]
  },
  {
   "cell_type": "markdown",
   "id": "cb5637d8-d719-47af-a1ab-5fa088379d0e",
   "metadata": {},
   "source": [
    "**(B)** Calculate the mean value for the volume in Python with\n",
    "\n",
    "$$\\overline{x} = \\frac{1}{N} \\sum_{i=1}^{N} x_i.$$\n",
    "\n",
    "Print the result and round the value to two decimal places. **(0.5 P)**\n",
    "\n",
    "*Hint*: You can use ```N = len(your_list)```. It's beneficial to use variables instead of hardcoding numbers directly in your code. If you need to change e.g. your list or numbers, you only have to update it in one place.\n"
   ]
  },
  {
   "cell_type": "code",
   "execution_count": null,
   "id": "08783a54-320e-4bc2-ab2a-504d6b124dbb",
   "metadata": {},
   "outputs": [],
   "source": [
    "# Your solution"
   ]
  },
  {
   "cell_type": "markdown",
   "id": "85fe6f99-ca23-40ef-8eac-d285bc48bac3",
   "metadata": {},
   "source": [
    "**(C)** Calculate the standard error to obtain $\\Delta$V. **(1 P)**\n",
    "\n",
    "\n",
    "$$\\sigma_{\\bar{x}} = \\frac{1}{\\sqrt{N}}\\cdot\\sqrt{\\frac{1}{N-1} \\sum_{i=1}^{N} \\left( x_i - \\overline{x} \\right)^2}$$\n",
    "\n",
    "Print the result and round it to two decimal places. "
   ]
  },
  {
   "cell_type": "code",
   "execution_count": null,
   "id": "5994957b-cdd4-4725-af70-47f30e9fb505",
   "metadata": {},
   "outputs": [],
   "source": [
    "# Your solution"
   ]
  },
  {
   "cell_type": "markdown",
   "id": "7b045d7c-462e-49e9-8cea-50085cfff724",
   "metadata": {},
   "source": [
    "# Problem 2 (2.5 P)"
   ]
  },
  {
   "cell_type": "markdown",
   "id": "8aa43211-79f9-4df0-b88d-a2e699a32002",
   "metadata": {},
   "source": [
    "Imagine you are working in a library, where you are responsible for managing the details of book loans. Your task is to maintain a record of members and their borrowed books using a Python dictionary.\n",
    "\n",
    "You are provided with the following dictionary structure to help you get started:"
   ]
  },
  {
   "cell_type": "code",
   "execution_count": null,
   "id": "ab1254b5-d750-4faf-baf0-300f4bc64310",
   "metadata": {},
   "outputs": [],
   "source": [
    "library_records = {1001:   \n",
    "        {\"name\": \"Enny\",\n",
    "        \"borrowed books\": [\"The Hitchhiker's Guide to the Galaxy\", \"The Restaurant at the End of the Universe \", \"Life, the Universe and Everything\"]}, \n",
    "\n",
    "                   1002: \n",
    "        {\"name\": \"Naemi\",\n",
    "        \"borrowed books\": [\"The Colour Of Magic\"]}}"
   ]
  },
  {
   "cell_type": "markdown",
   "id": "b15a8316-6d97-4478-8f6d-83d0f5687976",
   "metadata": {},
   "source": [
    "The numbers 1001 and 1002 are the member IDs. The members IDs are the keys and the details of the members (name, borrowed books) are additional dictionaries assigned to each ID. Each member can borrow a maximum of 5 books at a time.\n",
    "\n",
    "**(A)** Enny comes to you and would like to know how many books she can still borrow. **(1 P)**\n",
    "\n",
    "- Can you extract this information from the dictionary with a code (instead of just counting) and print it? \n",
    "\n",
    "She has already read the book \"Life, the Universe and Everything\" and would like to give it back. \n",
    "\n",
    "- Now you can remove this book from the dictionary.\n",
    "\n",
    "- Check the whole dictionary in the end to see if everything worked.\n",
    "\n",
    "*Hint: Be careful when you make changes to your previous lines and remember to restart the kernel and run the cells again if necessary.* "
   ]
  },
  {
   "cell_type": "code",
   "execution_count": null,
   "id": "709c5596-24eb-4529-b33d-a4e1042ef312",
   "metadata": {},
   "outputs": [],
   "source": [
    "# Your solution"
   ]
  },
  {
   "cell_type": "markdown",
   "id": "5397e13c-0cc8-4134-9e77-f0616e91ecff",
   "metadata": {},
   "source": [
    "**(B)** Jessica would like to register as a member of the library and she receives the member ID 1003. **(0.5 P)**\n",
    "- Add her to the library records and print the dictionary to check if it worked. "
   ]
  },
  {
   "cell_type": "code",
   "execution_count": null,
   "id": "3d0656c1-718d-4158-a350-62d80e4e240c",
   "metadata": {},
   "outputs": [],
   "source": [
    "# Your solution"
   ]
  },
  {
   "cell_type": "markdown",
   "id": "580873bc-da1b-4e69-aa7a-f5c5490c170f",
   "metadata": {},
   "source": [
    "**(C)** Naemi would like to borrow the book \"There and Back Again\". Your job is to check whether she is allowed to borrow another book based on the number of books she already has. **(1 P)**\n",
    "\n",
    "- Write an if statement to check if Naemi can borrow another book. Remember, she can borrow a maximum of 5 books at a time.\n",
    "\n",
    "- If she is allowed, add \"There and Back Again\" to her ```borrowed_books``` list inside the ```library_records``` dictionary.\n",
    "\n",
    "- Check the dictionary again at the end."
   ]
  },
  {
   "cell_type": "code",
   "execution_count": null,
   "id": "277179c7-1101-4a16-8a15-94aa54c706ec",
   "metadata": {},
   "outputs": [],
   "source": [
    "# Your solution"
   ]
  }
 ],
 "metadata": {
  "kernelspec": {
   "display_name": "Python 3 (ipykernel)",
   "language": "python",
   "name": "python3"
  },
  "language_info": {
   "codemirror_mode": {
    "name": "ipython",
    "version": 3
   },
   "file_extension": ".py",
   "mimetype": "text/x-python",
   "name": "python",
   "nbconvert_exporter": "python",
   "pygments_lexer": "ipython3",
   "version": "3.12.11"
  }
 },
 "nbformat": 4,
 "nbformat_minor": 5
}
