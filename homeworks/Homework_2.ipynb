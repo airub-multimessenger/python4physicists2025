{
 "cells": [
  {
   "cell_type": "markdown",
   "id": "d5948ff7-8f53-4b57-b1d3-232a68aa4c41",
   "metadata": {},
   "source": [
    "# Homework 2 "
   ]
  },
  {
   "cell_type": "markdown",
   "id": "5504fc4d-19c0-4427-8e53-8e594c9fddac",
   "metadata": {},
   "source": [
    "## Name: "
   ]
  },
  {
   "cell_type": "markdown",
   "id": "887048a1-8e1d-4336-91c1-aa6592bf040e",
   "metadata": {},
   "source": [
    "# Problem 1: (3 P)"
   ]
  },
  {
   "cell_type": "markdown",
   "id": "d25e4505-2775-496d-a6f7-275fa3bcc468",
   "metadata": {},
   "source": [
    "The following list is given:"
   ]
  },
  {
   "cell_type": "code",
   "execution_count": null,
   "id": "bd65d56a-fa8f-4825-873f-5ab6ea445297",
   "metadata": {},
   "outputs": [],
   "source": [
    "L = ['1', 1.0, 1, True, 5, 8, 3.4, 'False', 1.2, 10, 9.0]"
   ]
  },
  {
   "cell_type": "markdown",
   "id": "0f592687-e201-47f6-8a0a-95976f8d7597",
   "metadata": {},
   "source": [
    "**(A)** (1 P) Write a code to sum up every integer from **L** by using a For Loop and an If statement to check the type of the element from the list. Print your result in the end. "
   ]
  },
  {
   "cell_type": "code",
   "execution_count": null,
   "id": "6009f561-628b-44a8-861a-a415135b47c0",
   "metadata": {},
   "outputs": [],
   "source": [
    "#Your solution"
   ]
  },
  {
   "cell_type": "markdown",
   "id": "c3e893a2-0300-44e6-acdf-0b02174edfd3",
   "metadata": {},
   "source": [
    "**(B)** (1 P) Write a code that fills the lists below with the corresponding elements from ````L```` (i.e. integers from ````L```` go inside ````L_int```` etc.) using a For Loop and If statements. Check if everything worked by printing all lists in the end."
   ]
  },
  {
   "cell_type": "code",
   "execution_count": null,
   "id": "1ccde48e-1d02-4650-9a64-c7ecbc8a5786",
   "metadata": {},
   "outputs": [],
   "source": [
    "#Your solution"
   ]
  },
  {
   "cell_type": "markdown",
   "id": "ab4bc6f0-bf8d-4bd5-874d-e13c1d201821",
   "metadata": {},
   "source": [
    "**(C)** (1 P) \n",
    "\n",
    "Write a code that compares the values in ````L_int```` and ````L_float```` elementwise (i.e., the first element of ````L_int```` is compared with the first element of ````L_float````, the second with the second, and so on). Print with each iteration which element is smaller than the other one or if they are equal.  "
   ]
  },
  {
   "cell_type": "code",
   "execution_count": null,
   "id": "48631b06-d547-47b4-b9b0-265f7f974253",
   "metadata": {},
   "outputs": [],
   "source": [
    "#Your solution"
   ]
  },
  {
   "cell_type": "markdown",
   "id": "cba4f66a-5f56-464a-815a-2e116ea09dac",
   "metadata": {},
   "source": [
    "# Problem 2: (2 P)"
   ]
  },
  {
   "cell_type": "markdown",
   "id": "e92b7a96-b8cb-438e-ba7d-ec7b9ee776e8",
   "metadata": {},
   "source": [
    "**(A)** (1 P) Use Python **list comprehensions** to create the following lists:\n",
    "\n",
    "- Create a list `T_0` where each element is the result of dividing the first 25 integers by 5.\n",
    "\n",
    "- Create a list `T_1` that contains the squares of the first 25 integers, but only keep the numbers which are divisible by 5.\n",
    "  \n",
    "- Create a list `T_2` that contains only the even numbers from the first 25 integers, but only include numbers greater than 8.\n"
   ]
  },
  {
   "cell_type": "code",
   "execution_count": null,
   "id": "ef66ac51-a3a5-43ae-9f55-c52e9cc1c588",
   "metadata": {},
   "outputs": [],
   "source": [
    "#Your solution"
   ]
  },
  {
   "cell_type": "markdown",
   "id": "e7451c7e-7372-468a-9af1-6b68cdd36e3f",
   "metadata": {},
   "source": [
    "**(B)** (1 P) The kinetic energy of a car is given by \n",
    "\n",
    "$$E_k(t) = \\frac{1}{2} m v^2(t)$$\n",
    "\n",
    "where the mass of the car  $m$ = 1000 kg and the velocity is given by $v(t) = 3 \\cdot t$ (in m/s). We assume that `T_0` (list from task **(A)**) is given in seconds\n",
    "\n",
    " Calculate the exact kinetic energy **(in kJ!)** $E_{\\text{kin}}$ for each time value in the list `T_0`. Round the results to one decimal place and print each value in a new line.\n",
    "\n"
   ]
  },
  {
   "cell_type": "code",
   "execution_count": null,
   "id": "20502acc-7f4d-4b9c-b32a-cd9879ea2608",
   "metadata": {},
   "outputs": [],
   "source": [
    "#Your solution"
   ]
  }
 ],
 "metadata": {
  "kernelspec": {
   "display_name": "Python 3 (ipykernel)",
   "language": "python",
   "name": "python3"
  },
  "language_info": {
   "codemirror_mode": {
    "name": "ipython",
    "version": 3
   },
   "file_extension": ".py",
   "mimetype": "text/x-python",
   "name": "python",
   "nbconvert_exporter": "python",
   "pygments_lexer": "ipython3",
   "version": "3.12.11"
  }
 },
 "nbformat": 4,
 "nbformat_minor": 5
}
