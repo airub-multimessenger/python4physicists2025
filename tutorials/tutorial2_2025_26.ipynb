{
 "cells": [
  {
   "cell_type": "markdown",
   "id": "378c3623",
   "metadata": {},
   "source": [
    "# Tutorial 2"
   ]
  },
  {
   "cell_type": "markdown",
   "id": "76a8d7c6-2201-4e6c-aae5-f6d7cd0db361",
   "metadata": {},
   "source": [
    "### Last time in the tutorial:"
   ]
  },
  {
   "cell_type": "code",
   "execution_count": null,
   "id": "5b361367-7350-4422-9a57-89b32f3023b4",
   "metadata": {},
   "outputs": [],
   "source": [
    "5/2==2.5"
   ]
  },
  {
   "cell_type": "markdown",
   "id": "8ffeeb54-ff33-4042-b8a3-4b2ae63c7f97",
   "metadata": {},
   "source": [
    "### In the lecture:"
   ]
  },
  {
   "cell_type": "code",
   "execution_count": null,
   "id": "aa70e948-004b-4b4b-8034-dedd8aef5292",
   "metadata": {},
   "outputs": [],
   "source": [
    "a = 0.3\n",
    "b = 0.1 + 0.1 + 0.1\n",
    "\n",
    "print(a == b)\n",
    "print(a , b)"
   ]
  },
  {
   "cell_type": "code",
   "execution_count": null,
   "id": "2ad56881-9514-4d60-b2cd-6a0aa0bd06d2",
   "metadata": {},
   "outputs": [],
   "source": [
    "c = 5/2\n",
    "d = 0.5 + 0.5 + 0.5 + 0.5 + 0.5\n",
    "\n",
    "print(c==d)\n",
    "print(c,d)"
   ]
  },
  {
   "cell_type": "markdown",
   "id": "4330b872-a3cd-4a96-8679-1401f0b5a11d",
   "metadata": {},
   "source": [
    "### In the lecture:\n",
    "\n",
    "### \"Floating-point representation errors happen because floats are stored in base-2 (binary) representation, where e.g. 0.1 does not have a finite decimal representation, and therefore must be approximated.\"\n",
    "\n",
    "### $$ \\frac{m}{2^n} $$\n",
    "\n",
    "### But 0.5 = 1/2 and 2.5 = 5/2 are both of the form m / 2ⁿ, so they’re stored exactly, and no rounding occurs:"
   ]
  },
  {
   "cell_type": "code",
   "execution_count": null,
   "id": "655d2e69-56fa-48e8-9e34-cddb9ad12d73",
   "metadata": {},
   "outputs": [],
   "source": [
    "m = 1\n",
    "n = 1\n",
    "\n",
    "print(m/2**n)"
   ]
  },
  {
   "cell_type": "markdown",
   "id": "350327eb-b18c-4a5e-aaa7-6321a86ca494",
   "metadata": {},
   "source": [
    "### With ````format()````, we can see the decimal places:"
   ]
  },
  {
   "cell_type": "code",
   "execution_count": null,
   "id": "44b45c2a-174a-43c3-be23-2e56a4acbbbe",
   "metadata": {},
   "outputs": [],
   "source": [
    "print(format(0.3, \".55f\"))\n",
    "print(format(0.1+0.1+0.1, \".55f\"))\n",
    "\n",
    "print(\"\\n\")\n",
    "\n",
    "print(format(2.5, \".55f\"))\n",
    "print(format(5/2, \".55f\"))\n",
    "print(format(0.5 + 0.5 + 0.5 + 0.5 + 0.5, \".55f\"))"
   ]
  },
  {
   "cell_type": "markdown",
   "id": "be507d9f-450b-49cb-960d-896202ea2cf6",
   "metadata": {},
   "source": [
    "<br><br><br>\n"
   ]
  },
  {
   "cell_type": "markdown",
   "id": "6bea546c-116c-421a-9719-ade3f654c760",
   "metadata": {},
   "source": [
    "<br><br><br>\n"
   ]
  },
  {
   "cell_type": "markdown",
   "id": "c265b593",
   "metadata": {},
   "source": [
    "## Integers, floats, scientific notation"
   ]
  },
  {
   "cell_type": "markdown",
   "id": "d34f26b9",
   "metadata": {},
   "source": [
    "1. Run the following three cells:"
   ]
  },
  {
   "cell_type": "code",
   "execution_count": null,
   "id": "4719f917",
   "metadata": {},
   "outputs": [],
   "source": [
    "n = 246.8458"
   ]
  },
  {
   "cell_type": "code",
   "execution_count": null,
   "id": "f3c9d578",
   "metadata": {},
   "outputs": [],
   "source": [
    "round(n)"
   ]
  },
  {
   "cell_type": "code",
   "execution_count": null,
   "id": "a0aac4eb",
   "metadata": {},
   "outputs": [],
   "source": [
    "int(n)"
   ]
  },
  {
   "cell_type": "markdown",
   "id": "3f47e508",
   "metadata": {},
   "source": [
    " "
   ]
  },
  {
   "cell_type": "markdown",
   "id": "d7e3c261",
   "metadata": {},
   "source": [
    "2. Why this code snippet doesn't work? How to fix it?"
   ]
  },
  {
   "cell_type": "code",
   "execution_count": null,
   "id": "d61a6fbc",
   "metadata": {},
   "outputs": [],
   "source": [
    "num = '10'\n",
    "\n",
    "\n",
    "print(num + 5)"
   ]
  },
  {
   "cell_type": "markdown",
   "id": "ae33027a",
   "metadata": {},
   "source": [
    " "
   ]
  },
  {
   "cell_type": "markdown",
   "id": "4689be79",
   "metadata": {},
   "source": [
    " "
   ]
  },
  {
   "cell_type": "markdown",
   "id": "08fbbb15",
   "metadata": {},
   "source": [
    "3. You want to calculate the energy of a photon with the frequency $\\nu = 3 \\times 10^{18}$ Hz (X-rays).\n",
    "\n",
    "$$ E = h \\cdot \\nu$$\n",
    "\n",
    "where \n",
    "$$ h = 6.62 \\times 10^{-34} \\; \\; [J \\cdot s]$$\n",
    "\n",
    "How to write the expression for energy in Python?"
   ]
  },
  {
   "cell_type": "code",
   "execution_count": null,
   "id": "4dca6651",
   "metadata": {},
   "outputs": [],
   "source": [
    "h  = \n",
    "nu = \n",
    "E = "
   ]
  },
  {
   "cell_type": "markdown",
   "id": "aa0fb5d3",
   "metadata": {},
   "source": [
    " "
   ]
  },
  {
   "cell_type": "markdown",
   "id": "07704ade",
   "metadata": {},
   "source": [
    " "
   ]
  },
  {
   "cell_type": "markdown",
   "id": "275f0d8a",
   "metadata": {},
   "source": [
    "4. Run the following cell:"
   ]
  },
  {
   "cell_type": "code",
   "execution_count": null,
   "id": "3bce8e40",
   "metadata": {},
   "outputs": [],
   "source": [
    "10e-2 == 0.1"
   ]
  },
  {
   "cell_type": "markdown",
   "id": "dca34e22",
   "metadata": {},
   "source": [
    " \n",
    "\n",
    " "
   ]
  },
  {
   "cell_type": "markdown",
   "id": "1810e29e",
   "metadata": {},
   "source": [
    " \n",
    "\n",
    " "
   ]
  },
  {
   "cell_type": "markdown",
   "id": "2be7211d",
   "metadata": {},
   "source": [
    "5. How can you express the following numbers in exponential notation?\n",
    "\n",
    "250, 4500, 20000 "
   ]
  },
  {
   "cell_type": "code",
   "execution_count": null,
   "id": "8bf39b28",
   "metadata": {},
   "outputs": [],
   "source": []
  },
  {
   "cell_type": "markdown",
   "id": "ab1dc64f",
   "metadata": {},
   "source": [
    " "
   ]
  },
  {
   "cell_type": "markdown",
   "id": "1d936d0b",
   "metadata": {},
   "source": [
    " "
   ]
  },
  {
   "cell_type": "markdown",
   "id": "ba0ea8ed",
   "metadata": {},
   "source": [
    " "
   ]
  },
  {
   "cell_type": "markdown",
   "id": "61c3e8d0",
   "metadata": {},
   "source": [
    "  "
   ]
  },
  {
   "cell_type": "markdown",
   "id": "4432a04b",
   "metadata": {},
   "source": [
    "6.  Let's consider 7/3.\n",
    "$$7 = 2 \\times 3 +1$$\n",
    "\n",
    "3 - divisor\n",
    "\n",
    "2 - quotient, the integer part of the ratio of two numbers\n",
    "\n",
    "1 - remainder\n",
    "\n",
    "\n",
    "How to get remainder in Python? How to get integer part in Python?"
   ]
  },
  {
   "cell_type": "code",
   "execution_count": null,
   "id": "823b2fc1",
   "metadata": {},
   "outputs": [],
   "source": []
  },
  {
   "cell_type": "markdown",
   "id": "34b597fb",
   "metadata": {},
   "source": [
    "7. How to check whether 2453588 can be divided by 1684 without remainder?"
   ]
  },
  {
   "cell_type": "code",
   "execution_count": null,
   "id": "7a401c3f",
   "metadata": {},
   "outputs": [],
   "source": []
  },
  {
   "cell_type": "markdown",
   "id": "e0728dd7",
   "metadata": {},
   "source": [
    "  "
   ]
  },
  {
   "cell_type": "markdown",
   "id": "5a4c2883",
   "metadata": {},
   "source": [
    "  "
   ]
  },
  {
   "cell_type": "markdown",
   "id": "0da2c3d7",
   "metadata": {},
   "source": [
    "## Lists"
   ]
  },
  {
   "cell_type": "code",
   "execution_count": null,
   "id": "6a89773d",
   "metadata": {},
   "outputs": [],
   "source": [
    "a = [1, 2, 3, 4, 5, 6, 7, 8]"
   ]
  },
  {
   "cell_type": "markdown",
   "id": "37c92666",
   "metadata": {},
   "source": [
    "8. How to select only three first elements of the list?"
   ]
  },
  {
   "cell_type": "code",
   "execution_count": null,
   "id": "164ca689",
   "metadata": {},
   "outputs": [],
   "source": []
  },
  {
   "cell_type": "markdown",
   "id": "32234b81",
   "metadata": {},
   "source": [
    "9. How to select last two elements of the list?"
   ]
  },
  {
   "cell_type": "code",
   "execution_count": null,
   "id": "f7dc7167",
   "metadata": {},
   "outputs": [],
   "source": []
  },
  {
   "cell_type": "markdown",
   "id": "545f6e38",
   "metadata": {},
   "source": [
    "10. How to select every second element in the list?"
   ]
  },
  {
   "cell_type": "code",
   "execution_count": null,
   "id": "c31ca5b8",
   "metadata": {},
   "outputs": [],
   "source": []
  },
  {
   "cell_type": "markdown",
   "id": "541d3f54",
   "metadata": {},
   "source": [
    "11. How to add 0 as the last element to the list?"
   ]
  },
  {
   "cell_type": "code",
   "execution_count": null,
   "id": "d2445817",
   "metadata": {},
   "outputs": [],
   "source": []
  },
  {
   "cell_type": "markdown",
   "id": "858fd4b1",
   "metadata": {},
   "source": [
    " "
   ]
  },
  {
   "cell_type": "markdown",
   "id": "a3678679",
   "metadata": {},
   "source": [
    " "
   ]
  },
  {
   "cell_type": "markdown",
   "id": "6e7069fc",
   "metadata": {},
   "source": [
    "12. How to delete the last element of the list?"
   ]
  },
  {
   "cell_type": "code",
   "execution_count": null,
   "id": "8646e5f6",
   "metadata": {},
   "outputs": [],
   "source": []
  },
  {
   "cell_type": "markdown",
   "id": "6d45818b",
   "metadata": {},
   "source": [
    " "
   ]
  },
  {
   "cell_type": "markdown",
   "id": "da759ac7",
   "metadata": {},
   "source": [
    "<details>\n",
    "  <summary>Click here</summary>\n",
    "\n",
    "Method ```pop()``` always deleted the last element of the list. To delete a specific element, ```remove()```.\n",
    "\n",
    "</details>"
   ]
  },
  {
   "cell_type": "markdown",
   "id": "a8f0276d-0b23-4715-b51b-210e8082dcec",
   "metadata": {},
   "source": [
    "13. How to merge two lists?"
   ]
  },
  {
   "cell_type": "code",
   "execution_count": null,
   "id": "a2237b6f-471c-4d8e-8d62-56c87dc5368f",
   "metadata": {},
   "outputs": [],
   "source": [
    "a = [1,2]\n",
    "b = [3,4]"
   ]
  },
  {
   "cell_type": "markdown",
   "id": "f81bdd74",
   "metadata": {},
   "source": [
    " "
   ]
  },
  {
   "cell_type": "markdown",
   "id": "c679d68a-8596-4399-9206-06afb542473f",
   "metadata": {},
   "source": [
    "# List comprehension\n",
    "\n",
    "Reminder: List comprehension offers a shorter syntax when you want to create a new list based on the values of an existing list."
   ]
  },
  {
   "cell_type": "markdown",
   "id": "67e33990",
   "metadata": {},
   "source": [
    " "
   ]
  },
  {
   "cell_type": "markdown",
   "id": "730965b1-5eea-42ab-8ed5-ea4e5a48193c",
   "metadata": {},
   "source": [
    "14. Can you find a shorter way to create list A?"
   ]
  },
  {
   "cell_type": "code",
   "execution_count": null,
   "id": "b3892b08-4a43-4ff6-a769-13dcfc635459",
   "metadata": {},
   "outputs": [],
   "source": [
    "A = []\n",
    "\n",
    "for d in range(30):\n",
    "    A.append(d/2)\n",
    "\n",
    "print(A)\n",
    "\n",
    "#Your solution:"
   ]
  },
  {
   "cell_type": "markdown",
   "id": "b85fcc5e-33b0-4496-b176-265fa076db38",
   "metadata": {},
   "source": [
    "<br><br><br>\n"
   ]
  },
  {
   "cell_type": "markdown",
   "id": "a1aa89ac",
   "metadata": {},
   "source": [
    "##  Strings and For Loops"
   ]
  },
  {
   "cell_type": "code",
   "execution_count": null,
   "id": "fa2053e8",
   "metadata": {},
   "outputs": [],
   "source": [
    "name = 'John Ronald Reuel Tolkien'"
   ]
  },
  {
   "cell_type": "markdown",
   "id": "ec76ee16",
   "metadata": {},
   "source": [
    "**Some useful commands for working with strings**"
   ]
  },
  {
   "cell_type": "markdown",
   "id": "05aceb2a",
   "metadata": {},
   "source": [
    "To separate words inside the string, you can use ```split()```"
   ]
  },
  {
   "cell_type": "markdown",
   "id": "7dbf09ba",
   "metadata": {},
   "source": [
    "name.split(\" \")"
   ]
  },
  {
   "cell_type": "markdown",
   "id": "18c5200b",
   "metadata": {},
   "source": [
    "Python strings have special symbols such as ```\\t``` and ```\\n```. Examples:"
   ]
  },
  {
   "cell_type": "markdown",
   "id": "cf61f194",
   "metadata": {},
   "source": [
    "To replace all matching parts of the string, we can use ```replace()``` method."
   ]
  },
  {
   "cell_type": "markdown",
   "id": "a1d70e72-80b9-4148-b723-90c3896bb1b9",
   "metadata": {},
   "source": [
    "**Try out:**"
   ]
  },
  {
   "cell_type": "code",
   "execution_count": null,
   "id": "e1cef1ab",
   "metadata": {},
   "outputs": [],
   "source": [
    "print(\"my\\nname\")"
   ]
  },
  {
   "cell_type": "code",
   "execution_count": null,
   "id": "bd3708ae",
   "metadata": {},
   "outputs": [],
   "source": [
    "print(\"my\\tname\")"
   ]
  },
  {
   "cell_type": "code",
   "execution_count": null,
   "id": "8b906654-b68f-4205-aafb-5d8dd31fd573",
   "metadata": {},
   "outputs": [],
   "source": [
    "name_list = name.split(\" \")\n",
    "\n",
    "print(name_list)"
   ]
  },
  {
   "cell_type": "code",
   "execution_count": null,
   "id": "0903b811",
   "metadata": {},
   "outputs": [],
   "source": [
    "name.replace(\"T\", \"R\")"
   ]
  },
  {
   "cell_type": "markdown",
   "id": "0dbbdab6",
   "metadata": {},
   "source": [
    "15. How to print \"John Ronald\" with each word from new line using ```name_list```?"
   ]
  },
  {
   "cell_type": "code",
   "execution_count": null,
   "id": "e955d3f0",
   "metadata": {},
   "outputs": [],
   "source": [
    "# Your solution:\n"
   ]
  },
  {
   "cell_type": "markdown",
   "id": "f614b448-b75e-4cc6-91d0-eea3d9d11298",
   "metadata": {},
   "source": [
    "# Exercise:"
   ]
  },
  {
   "cell_type": "markdown",
   "id": "8ea8931b-6b7b-4d73-90f9-c155fce9c3cd",
   "metadata": {},
   "source": [
    "### Working with Lists and If Statements"
   ]
  },
  {
   "cell_type": "markdown",
   "id": "453b2654",
   "metadata": {},
   "source": [
    "Let's assume that in some contest jury gave to the participants the following points. The final score is the average of the grades without the lowest and highest values.\n",
    "\n",
    "```a = [6.7, 8.7, 7.3, 8.0, 7.1, 7.9]```\n",
    "\n",
    "\n",
    "```b = [5.3, 6.0, 4.5, 7.0, 8.1, 5.9]```\n"
   ]
  },
  {
   "cell_type": "markdown",
   "id": "132a7a31",
   "metadata": {},
   "source": [
    "Find a short algorithm to calculate the final score of the participant. At the end of the program, add an ````if```` statement that checks whether the final score is greater than 7. If it is, print the final score using an f-string.\n",
    "Test your algorithm with both lists.\n",
    "\n",
    "**Hint:** You can use the following built-in Python functions: ````min()````, ````max()```` , ````sum()````, ````len()````"
   ]
  },
  {
   "cell_type": "code",
   "execution_count": null,
   "id": "dc5fda8a",
   "metadata": {},
   "outputs": [],
   "source": [
    "a = [6.7, 8.7, 7.3, 8.0, 7.1, 7.9]\n",
    "b = [5.3, 6.0, 4.5, 7.0, 8.1, 5.9]"
   ]
  },
  {
   "cell_type": "code",
   "execution_count": null,
   "id": "9b02b942-a2fa-40fd-a378-72cc4893889d",
   "metadata": {},
   "outputs": [],
   "source": [
    "# Your solution:\n"
   ]
  }
 ],
 "metadata": {
  "kernelspec": {
   "display_name": "Python 3 (ipykernel)",
   "language": "python",
   "name": "python3"
  },
  "language_info": {
   "codemirror_mode": {
    "name": "ipython",
    "version": 3
   },
   "file_extension": ".py",
   "mimetype": "text/x-python",
   "name": "python",
   "nbconvert_exporter": "python",
   "pygments_lexer": "ipython3",
   "version": "3.12.11"
  }
 },
 "nbformat": 4,
 "nbformat_minor": 5
}
