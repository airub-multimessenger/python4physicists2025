{
 "cells": [
  {
   "cell_type": "markdown",
   "metadata": {},
   "source": [
    "# Getting Started"
   ]
  },
  {
   "cell_type": "markdown",
   "metadata": {},
   "source": [
    "You are looking at a *notebook*, structured file that allow to mix text (in the `markdown` format) and code (usually in `python`).\n",
    "\n",
    "Notebooks allow for a very intuitive interactive programming environment, although you will learn there are pitfalls! Notebooks are built out of cells. You can set cells to be code or markdown. Execute cells individually with \"shift-return\"."
   ]
  },
  {
   "cell_type": "markdown",
   "metadata": {},
   "source": [
    "## First operation"
   ]
  },
  {
   "cell_type": "code",
   "execution_count": null,
   "metadata": {},
   "outputs": [],
   "source": [
    "1 + -1"
   ]
  },
  {
   "cell_type": "markdown",
   "metadata": {},
   "source": [
    "Python reads the code, evaluates it, and prints the result."
   ]
  },
  {
   "cell_type": "markdown",
   "metadata": {},
   "source": [
    "## Hello World!\n",
    "We will start with a great classic of the history of programming, the \"hello world\"."
   ]
  },
  {
   "cell_type": "code",
   "execution_count": null,
   "metadata": {},
   "outputs": [],
   "source": [
    "print(\"Hello World!\")\n",
    "print(\"Hello students\")"
   ]
  },
  {
   "cell_type": "markdown",
   "metadata": {},
   "source": [
    "Here, `print()` is a *function*. We will learn more about functions later in the course. The `print()` function takes an input in the form of a string. We will learn more about variable types shortly. \n",
    "\n",
    "Note that `python` lines of code end at the new line and do not require any punctuation, whereas many languages use a semicolon (`;`)."
   ]
  },
  {
   "cell_type": "markdown",
   "metadata": {},
   "source": [
    "What happens if we don't give the `print()` function the input it expects?"
   ]
  },
  {
   "cell_type": "code",
   "execution_count": null,
   "metadata": {},
   "outputs": [],
   "source": [
    "print(\"Hello World!)"
   ]
  },
  {
   "cell_type": "code",
   "execution_count": null,
   "metadata": {},
   "outputs": [],
   "source": [
    "print(Hello World!)"
   ]
  },
  {
   "cell_type": "markdown",
   "metadata": {},
   "source": [
    "## On comments and strings"
   ]
  },
  {
   "cell_type": "markdown",
   "metadata": {},
   "source": [
    "It is a good practice to **document** your code. There are more or less sophisticated of doing this, but the basic level are *comments*."
   ]
  },
  {
   "cell_type": "code",
   "execution_count": null,
   "metadata": {},
   "outputs": [],
   "source": [
    "# This is a single-line comment. Anything after the '#' mark will be ignored, for example print(\"Hello World\")\n",
    "\n",
    "print(\"Hello World!\") # We run this a second time to illustrate inline comments."
   ]
  },
  {
   "cell_type": "code",
   "execution_count": null,
   "metadata": {},
   "outputs": [],
   "source": [
    "\"\"\"\n",
    "This is a multiline comment.\n",
    "Ideally it should describe what happens in the next block of code.\n",
    "We will print a different message.\n",
    "\"\"\"\n",
    "print(\"That was a nice comment!\")"
   ]
  },
  {
   "cell_type": "code",
   "execution_count": null,
   "metadata": {},
   "outputs": [],
   "source": [
    "'''\n",
    "This is also a multiline comment.\n",
    "We will use this cell to illustrate how ' ' and \" \" are equivalent.\n",
    "'''\n",
    "print('That was also a nice comment!')"
   ]
  },
  {
   "cell_type": "markdown",
   "metadata": {},
   "source": [
    "There is no functional difference between apostrophes (`''`) and quotation marks (`\"\"`) in `python` when used as string or comment delimiters. However, you may want to print a string with an apostrophe in it..."
   ]
  },
  {
   "cell_type": "code",
   "execution_count": null,
   "metadata": {},
   "outputs": [],
   "source": [
    "print('Let's escape!')"
   ]
  },
  {
   "cell_type": "code",
   "execution_count": null,
   "metadata": {},
   "outputs": [],
   "source": [
    "\"\"\" \n",
    "If you want to print an apostrophe in a string delimited by apostrophes, you will have to escape the character.\n",
    "\"\"\"\n",
    "print('Let\\'s escape!')\n",
    "\n",
    "\"\"\" \n",
    "But this will work flawlessly if you choose quotation marks as delimiters.\n",
    "\"\"\"\n",
    "print(\"Let's not escape!\")"
   ]
  },
  {
   "cell_type": "markdown",
   "metadata": {},
   "source": [
    "We then recommend you to use quotation marks as delimiters by default! Across most programming languages, strings are indeed delimited by quotation marks. In some languages such as C, apostrophes are used only to delimit single characters. It is a good idea to pick up \"habits\" that are portable, but also learn to be flexible and to adapt!"
   ]
  },
  {
   "cell_type": "markdown",
   "metadata": {},
   "source": [
    "# First steps\n",
    "\n",
    "The following is partially inspired by a past [Zeuthen Data Science Seminar](https://indico.desy.de/event/32700/) held by Jakob van Santen (DESY)."
   ]
  },
  {
   "cell_type": "markdown",
   "metadata": {},
   "source": [
    "## 1. Getting to know python\n",
    "Python is a programming language which is:\n",
    "- **interpreted**: the code of a python program is not compiled and translated into machine-language before execution, but rather translated line-by-line. We already have an example for this: the fact that we can have interactive notebooks! There is no real distinction between *compilation* and *runtime* like in compiled languages. A consequence of this is that computation-intensive operations are inherently inefficient (but we have libraries to get around this). \n",
    "- **strongly but dynamically typed**: variables have types, but these types are determined at *runtime*.   \n",
    "\n",
    "### Running python code\n",
    "- running the interpreter on a source file (script): `python3 script.py`\n",
    "- using an interactive prompt (also known as REPL, read-eval-print-loop). `ipython` is an example, Jupyter notebooks are just an improved way of doing it! "
   ]
  },
  {
   "cell_type": "markdown",
   "metadata": {},
   "source": [
    "## 2. Variables (actually, names and bindings)\n",
    "In traditional compiled programming languages, a variable has an *r-value* (a memory address) and an *l-value* (its actual value), so when we write an *assignment*:\n",
    "```C\n",
    "int a = 1; /* a little detour into the realm of C language */\n",
    "```\n",
    "it means that the binary representation of `1` is stored at a memory address statically associated to `a`. \n",
    "\n",
    "Python has a simpler syntax, partly because is a more abstract language:\n",
    "```python\n",
    "a = 1\n",
    "```\n",
    "where `a` is a *name* and `1` represents in general an *object*. This operation, strictly speaking, is a *name binding*.\n",
    "\n",
    "From now on, we will speak of *variables* and *assignments* for the sake of simplicity, but keep in mind that conceptually `python` is doing a different thing.\n",
    "\n",
    "What are the benefits of using variables in code? Why not just use `1` instead of assigning the value to the variable `a`?"
   ]
  },
  {
   "cell_type": "markdown",
   "metadata": {},
   "source": [
    "Let's practice...\n",
    "We will now show practical examples of the ideas we have just introduced! We can inspect the variable using the print() function."
   ]
  },
  {
   "cell_type": "code",
   "execution_count": null,
   "metadata": {},
   "outputs": [],
   "source": [
    "# first assignment\n",
    "a = 1\n",
    "print(a, type(a))"
   ]
  },
  {
   "cell_type": "markdown",
   "metadata": {},
   "source": [
    "Or we can inspect it without the print function."
   ]
  },
  {
   "cell_type": "code",
   "execution_count": null,
   "metadata": {},
   "outputs": [],
   "source": [
    "a"
   ]
  },
  {
   "cell_type": "code",
   "execution_count": null,
   "metadata": {},
   "outputs": [],
   "source": [
    "# second assignment\n",
    "a = \"hello world!\"\n",
    "print(a, type(a))"
   ]
  },
  {
   "cell_type": "code",
   "execution_count": null,
   "metadata": {},
   "outputs": [],
   "source": [
    "a"
   ]
  },
  {
   "cell_type": "markdown",
   "metadata": {},
   "source": [
    "Note that:\n",
    "\n",
    "the type of a is automatically determined by the value we have assigned;\n",
    "even simple data types are represented as instances of a class (objects)\n",
    "Values directly written in code (1 and hello world!) take the name of literals."
   ]
  },
  {
   "cell_type": "markdown",
   "metadata": {},
   "source": [
    "### Watch those equal signs!\n",
    "\n",
    "`a = 1` is assigning a value to a variable.\n",
    "`a == 1` is testing the value of the variable."
   ]
  },
  {
   "cell_type": "code",
   "execution_count": null,
   "metadata": {},
   "outputs": [],
   "source": [
    "a = 1"
   ]
  },
  {
   "cell_type": "code",
   "execution_count": null,
   "metadata": {},
   "outputs": [],
   "source": [
    "a == 2"
   ]
  },
  {
   "cell_type": "markdown",
   "metadata": {},
   "source": [
    "### How to name your variables\n",
    "\n",
    "Is `a` a good variable name? When is it okay, when would it be a problem?\n",
    "\n",
    "Rules for naming variables: can contain numbers, letters, underscores. Cannot start with a digit. Good practice to make them descriptive!"
   ]
  },
  {
   "cell_type": "code",
   "execution_count": null,
   "metadata": {},
   "outputs": [],
   "source": [
    "1variable = 1"
   ]
  },
  {
   "cell_type": "markdown",
   "metadata": {},
   "source": [
    "### What about constants?\n",
    "There are no actual *constants* in python. This is an inconvenience we have to live with although it sometimes get in the way of writing solid code. Some people like to define constant value in capital letters, for example `PI = 3.14`, to avoid accidentally mixing them with variables. If you think about what we said on variables being *names*, the reason for the lack of constants should be clear."
   ]
  },
  {
   "cell_type": "markdown",
   "metadata": {},
   "source": [
    "## 3. Types\n",
    "Summary of native types:\n",
    "- string (`str`): contains characters, supports unicodes, there is no separate type for individual characters;\n",
    "- numeric types: integers (`int`) have variable-length, that means they do not have minimum or maximum values. Floating point numbers (`float`, numbers with a decimal point) are double precision (64 bit). An `int` or `float` can be negative. Important: **floating point** is a synonym of **variable precision**. This means that the resolution of your variable (i.e. the minimum difference between two values) depends on the order of magnitude of the number. Most of the times you will have enough precision for all practical purposes, but be aware that some numbers (especially decimals) may not have an exact representation!\n",
    "- booleans (`True` and `False`)\n",
    "- collections: `tuple` (immutable sequence), `list` (mutable sequence), `set` (set of unique items), `dict` (key-value mapping)\n",
    "- none `None` is a special object of `NoneType`, its usage may vary.\n",
    "Let's illustrate a how to write the corresponding literals:"
   ]
  },
  {
   "cell_type": "code",
   "execution_count": null,
   "metadata": {},
   "outputs": [],
   "source": [
    "\"python\", \"🐍\"                      # str\n",
    "b\"\\xf0\\x9f\\x90\\x8d\"                 # bytes\n",
    "42                                  # int\n",
    "42., 42.0, 4.2e1                    # float\n",
    "(1, 42., \"🐍\")                      # tuple\n",
    "[1, 42., \"🐍\"]                      # list\n",
    "{1, 42., \"🐍\"}                      # set\n",
    "{1: \"foo\", 42.: \"bar\", \"🐍\": \"baz\"} # dict\n",
    "None                                # NoneType\n",
    "True, False                         # bool"
   ]
  },
  {
   "cell_type": "markdown",
   "metadata": {},
   "source": [
    "**Notes**\n",
    "- more than one variable can be written or assigned on a single line, for example `a, b = 0, 1`, this works by implicitly creating a `tuple`; most of the time you can use it to make your code more readable;\n",
    "- running an instruction with a single variable will print a *representation* of the corresponding object, however as you have just seen this only works for the last variable, so use `print()` statements to properly check your output."
   ]
  },
  {
   "cell_type": "code",
   "execution_count": null,
   "metadata": {},
   "outputs": [],
   "source": [
    "a = 1\n",
    "b = 2\n",
    "print(a, b)"
   ]
  },
  {
   "cell_type": "code",
   "execution_count": null,
   "metadata": {},
   "outputs": [],
   "source": [
    "a, b = 1, 2\n",
    "print(a, b)"
   ]
  },
  {
   "cell_type": "markdown",
   "metadata": {},
   "source": [
    "You can check the type of a variable with the function `isinstance()`:"
   ]
  },
  {
   "cell_type": "code",
   "execution_count": null,
   "metadata": {},
   "outputs": [],
   "source": [
    "print(isinstance(\"python\", int))\n",
    "print(isinstance(\"python\", str))"
   ]
  }
 ],
 "metadata": {
  "kernelspec": {
   "display_name": "Python 3 (ipykernel)",
   "language": "python",
   "name": "python3"
  },
  "language_info": {
   "codemirror_mode": {
    "name": "ipython",
    "version": 3
   },
   "file_extension": ".py",
   "mimetype": "text/x-python",
   "name": "python",
   "nbconvert_exporter": "python",
   "pygments_lexer": "ipython3",
   "version": "3.11.11"
  },
  "vscode": {
   "interpreter": {
    "hash": "a27840a7b1c12ed5c4097e0c82ce74f146693c21815a51f33b43828b75394333"
   }
  }
 },
 "nbformat": 4,
 "nbformat_minor": 4
}
