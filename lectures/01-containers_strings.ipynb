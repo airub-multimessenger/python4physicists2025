{
 "cells": [
  {
   "cell_type": "markdown",
   "metadata": {},
   "source": [
    "# Types and containers, string manipulation"
   ]
  },
  {
   "cell_type": "markdown",
   "metadata": {},
   "source": [
    "### Reminder from last lecture\n",
    "We talked about variable assignment, such as:"
   ]
  },
  {
   "cell_type": "code",
   "execution_count": 29,
   "metadata": {},
   "outputs": [
    {
     "name": "stdout",
     "output_type": "stream",
     "text": [
      "1 <class 'int'>\n",
      "hello world <class 'str'>\n"
     ]
    }
   ],
   "source": [
    "# first assignment\n",
    "a = 1\n",
    "b = \"hello world\"\n",
    "print(a, type(a))\n",
    "print(b, type(b))"
   ]
  },
  {
   "cell_type": "markdown",
   "metadata": {},
   "source": [
    "We also talked briefly about python's built-in types.\n",
    "\n",
    "Summary of native types:\n",
    "- string (`str`): contains characters, supports unicodes, there is no separate type for individual characters;\n",
    "- numeric types: integers (`int`) have variable-length, that means they do not have minimum or maximum values. Floating point numbers (`float`, numbers with a decimal point) are double precision (64 bit). An `int` or `float` can be negative. Important: **floating point** is a synonym of **variable precision**. This means that the resolution of your variable (i.e. the minimum difference between two values) depends on the order of magnitude of the number. Most of the times you will have enough precision for all practical purposes, but be aware that some numbers (especially decimals) may not have an exact representation!\n",
    "- booleans (`True` and `False`)\n",
    "- collections: `tuple` (immutable sequence), `list` (mutable sequence), `set` (set of unique items), `dict` (key-value mapping)\n",
    "- none `None` is a special object of `NoneType`, its usage may vary."
   ]
  },
  {
   "cell_type": "code",
   "execution_count": 1,
   "metadata": {},
   "outputs": [
    {
     "data": {
      "text/plain": [
       "(True, False)"
      ]
     },
     "execution_count": 1,
     "metadata": {},
     "output_type": "execute_result"
    }
   ],
   "source": [
    "\"python\"                            # str\n",
    "b\"\\xf0\\x9f\\x90\\x8d\"                 # bytes\n",
    "42                                  # int\n",
    "42., 42.0, 4.2e1                    # float\n",
    "(1, 42., \"python\")                  # tuple\n",
    "[1, 42., \"python\"]                  # list\n",
    "{1, 42., \"python\"}                  # set\n",
    "{1: \"foo\", 42.: \"bar\"}              # dict\n",
    "None                                # NoneType\n",
    "True, False                         # bool"
   ]
  },
  {
   "cell_type": "markdown",
   "metadata": {},
   "source": [
    "#### Floating point precision"
   ]
  },
  {
   "cell_type": "code",
   "execution_count": 2,
   "metadata": {},
   "outputs": [
    {
     "name": "stdout",
     "output_type": "stream",
     "text": [
      "False\n",
      "0.3 0.30000000000000004\n"
     ]
    }
   ],
   "source": [
    "a = 0.3\n",
    "b = 0.1 + 0.1 + 0.1\n",
    "print(a == b)\n",
    "print(a , b)"
   ]
  },
  {
   "cell_type": "markdown",
   "metadata": {},
   "source": [
    "Can you guess what is happening? *Floating-point representation errors* happen because `float`s are stored in base-2 (binary) representation, where e.g. 0.1 does not have a finite decimal representation, and therefore must be approximated."
   ]
  },
  {
   "cell_type": "markdown",
   "metadata": {},
   "source": [
    "## 1. Containers\n",
    "\n",
    "The following types are *data structures*. As the name indicates, they are useful for storing data!"
   ]
  },
  {
   "cell_type": "markdown",
   "metadata": {},
   "source": [
    "### Tuples\n",
    "Tuples are immutable sets of values. Once constructed, they cannot be modified."
   ]
  },
  {
   "cell_type": "code",
   "execution_count": 45,
   "metadata": {},
   "outputs": [
    {
     "data": {
      "text/plain": [
       "tuple"
      ]
     },
     "execution_count": 45,
     "metadata": {},
     "output_type": "execute_result"
    }
   ],
   "source": [
    "a = ()\n",
    "type(a)"
   ]
  },
  {
   "cell_type": "code",
   "execution_count": 48,
   "metadata": {},
   "outputs": [
    {
     "name": "stdout",
     "output_type": "stream",
     "text": [
      "(1, 2, 3)\n",
      "1 2 3\n"
     ]
    },
    {
     "ename": "TypeError",
     "evalue": "'tuple' object does not support item assignment",
     "output_type": "error",
     "traceback": [
      "\u001b[0;31m---------------------------------------------------------------------------\u001b[0m",
      "\u001b[0;31mTypeError\u001b[0m                                 Traceback (most recent call last)",
      "Cell \u001b[0;32mIn[48], line 4\u001b[0m\n\u001b[1;32m      2\u001b[0m \u001b[38;5;28mprint\u001b[39m(a)\n\u001b[1;32m      3\u001b[0m \u001b[38;5;28mprint\u001b[39m(a[\u001b[38;5;241m0\u001b[39m], a[\u001b[38;5;241m1\u001b[39m], a[\u001b[38;5;241m2\u001b[39m])\n\u001b[0;32m----> 4\u001b[0m a[\u001b[38;5;241m0\u001b[39m] \u001b[38;5;241m=\u001b[39m \u001b[38;5;241m9\u001b[39m\n",
      "\u001b[0;31mTypeError\u001b[0m: 'tuple' object does not support item assignment"
     ]
    }
   ],
   "source": [
    "a = (1,2,3)\n",
    "print(a)\n",
    "print(a[0], a[1], a[2])\n",
    "a[0] = 9 # try this!"
   ]
  },
  {
   "cell_type": "code",
   "execution_count": 54,
   "metadata": {},
   "outputs": [
    {
     "name": "stdout",
     "output_type": "stream",
     "text": [
      "(1, 2, 3)\n",
      "4\n",
      "(1, 2, 3)\n"
     ]
    }
   ],
   "source": [
    "a, b, c = 1, 2, 3\n",
    "t = (a, b, c)\n",
    "print(t)\n",
    "#t[0] = 4 # this cannot work\n",
    "a = 4 # maybe this will work?\n",
    "print(a)\n",
    "print(t)"
   ]
  },
  {
   "cell_type": "code",
   "execution_count": 55,
   "metadata": {},
   "outputs": [
    {
     "name": "stdout",
     "output_type": "stream",
     "text": [
      "(1, 2, 3)\n"
     ]
    }
   ],
   "source": [
    "print(t)"
   ]
  },
  {
   "cell_type": "markdown",
   "metadata": {},
   "source": [
    "So be careful, the tuple has stored the values of `a`, `b`, `c` and assigning a new value to `a` will not change what's in the tuple!"
   ]
  },
  {
   "cell_type": "markdown",
   "metadata": {},
   "source": [
    "### Lists\n",
    "Lists are the simplest form of collection that can be modified. We can use the `.append()` method to add elements. Note that in contrast to functions like `print()`, we use dot notation with methods. We will explain this when we cover functions and methods."
   ]
  },
  {
   "cell_type": "code",
   "execution_count": 57,
   "metadata": {},
   "outputs": [
    {
     "name": "stdout",
     "output_type": "stream",
     "text": [
      "[1, 'hello']\n"
     ]
    }
   ],
   "source": [
    "a = list() # create an empty list using the list() built-in function\n",
    "b = [] # create an empty list using the `[]` literal\n",
    "b.append(1) # add an element to the list\n",
    "b.append(\"hello\")\n",
    "print(b)"
   ]
  },
  {
   "cell_type": "markdown",
   "metadata": {},
   "source": [
    "Collections can be non-homogeneous, but this is rarely a good practice to adopt!\n",
    "\n",
    "You can create lists from tuples:"
   ]
  },
  {
   "cell_type": "code",
   "execution_count": 58,
   "metadata": {},
   "outputs": [
    {
     "name": "stdout",
     "output_type": "stream",
     "text": [
      "[1, 2, 3] <class 'list'>\n",
      "[4, 2, 3]\n"
     ]
    }
   ],
   "source": [
    "c = list((1,2,3))\n",
    "print(c, type(c))\n",
    "c[0] = 4 # now we can modify the list!\n",
    "print(c)"
   ]
  },
  {
   "cell_type": "markdown",
   "metadata": {},
   "source": [
    "We will show a few examples of list *slicing*. Slicing is a very powerful syntactic tool that allows to manipulate collections by means of a very compact notation. Spend a bit of time learning it, you will use it all the time! Important to note: python starts indexing from zero!"
   ]
  },
  {
   "cell_type": "code",
   "execution_count": 37,
   "metadata": {},
   "outputs": [
    {
     "name": "stdout",
     "output_type": "stream",
     "text": [
      "10 9 ...\n",
      "[10, 9, 8, 7, 6, 5, 4, 3, 2, 1, 0]\n"
     ]
    }
   ],
   "source": [
    "l = [1, 2, 3, 4, 5, 6, 7, 8, 9, 10]\n",
    "\n",
    "#print(l[2:]) # start at index 2\n",
    "#print(l[2:9]) # select between indices 2 and 9-1 (upper limits are exclusive)\n",
    "#print(l[:9]) # stop at index 9-1\n",
    "#print(l[-1], l[-2], \"...\") # access individual elements in reverse order\n",
    "#print(l[::-1]) # reverse the entire list"
   ]
  },
  {
   "cell_type": "markdown",
   "metadata": {},
   "source": [
    "We can check the number of elements in a collection with the `len()` function:"
   ]
  },
  {
   "cell_type": "code",
   "execution_count": 64,
   "metadata": {},
   "outputs": [
    {
     "name": "stdout",
     "output_type": "stream",
     "text": [
      "10\n"
     ]
    }
   ],
   "source": [
    "print(len(l))"
   ]
  },
  {
   "cell_type": "markdown",
   "metadata": {},
   "source": [
    "Note how lists are not the same as arrays or vectors! For example:"
   ]
  },
  {
   "cell_type": "code",
   "execution_count": 65,
   "metadata": {},
   "outputs": [
    {
     "name": "stdout",
     "output_type": "stream",
     "text": [
      "[1, 2, 3, 4, 5, 6]\n"
     ]
    }
   ],
   "source": [
    "a = [1,2,3]\n",
    "b = [4,5,6]\n",
    "c = a + b # this concatenates the lists, does not add their values!\n",
    "print(c)"
   ]
  },
  {
   "cell_type": "markdown",
   "metadata": {},
   "source": [
    "You can have nested lists:"
   ]
  },
  {
   "cell_type": "code",
   "execution_count": 66,
   "metadata": {},
   "outputs": [
    {
     "name": "stdout",
     "output_type": "stream",
     "text": [
      "[[1, 2, 3], [4, 5, 6], [7, 8, 9]]\n"
     ]
    }
   ],
   "source": [
    "a = [1,2,3]\n",
    "b = [4,5,6]\n",
    "c = [7,8,9]\n",
    "m = [a, b, c]\n",
    "print(m)"
   ]
  },
  {
   "cell_type": "markdown",
   "metadata": {},
   "source": [
    "Let's try some methods for working with lists, `.insert()`, `.append()` `.extend()`, and `.pop()`."
   ]
  },
  {
   "cell_type": "code",
   "execution_count": 43,
   "metadata": {},
   "outputs": [
    {
     "name": "stdout",
     "output_type": "stream",
     "text": [
      "[1, 4, 2, 3]\n",
      "[1, 'banana', 4, 2, 3]\n"
     ]
    }
   ],
   "source": [
    "# An element to list at a specified index\n",
    "a = [1,2,3]\n",
    "a.insert(1, 4)  # First argument is index, second is value to insert\n",
    "print(a)\n",
    "a.insert(1, \"banana\")\n",
    "print(a)"
   ]
  },
  {
   "cell_type": "code",
   "execution_count": 38,
   "metadata": {},
   "outputs": [
    {
     "name": "stdout",
     "output_type": "stream",
     "text": [
      "[1, 2, 3]\n",
      "[1, 2, 3, 4]\n"
     ]
    }
   ],
   "source": [
    "# Add an element to end of list\n",
    "a = [1,2,3]\n",
    "print(a)\n",
    "a.append(4)\n",
    "print(a)"
   ]
  },
  {
   "cell_type": "code",
   "execution_count": 44,
   "metadata": {},
   "outputs": [
    {
     "name": "stdout",
     "output_type": "stream",
     "text": [
      "[1, 2, 3, 4, 'banana']\n"
     ]
    }
   ],
   "source": [
    "# Add multiple elements to list\n",
    "a = [1,2,3]\n",
    "a.extend([4, \"banana\"])\n",
    "print(a)"
   ]
  },
  {
   "cell_type": "code",
   "execution_count": 46,
   "metadata": {},
   "outputs": [
    {
     "name": "stdout",
     "output_type": "stream",
     "text": [
      "[1, 2]\n"
     ]
    }
   ],
   "source": [
    "# Remove elements from list\n",
    "a = [1,2,3]\n",
    "a.pop(2)\n",
    "print(a)"
   ]
  },
  {
   "cell_type": "markdown",
   "metadata": {},
   "source": [
    "We can also sort lists, using `.sort()`. Strings will be sorted alphabetically, numbers will be sorted by value."
   ]
  },
  {
   "cell_type": "code",
   "execution_count": 47,
   "metadata": {},
   "outputs": [
    {
     "name": "stdout",
     "output_type": "stream",
     "text": [
      "['green', 'yellow', 'blue']\n",
      "['blue', 'green', 'yellow']\n"
     ]
    }
   ],
   "source": [
    "# Sort a list of strings\n",
    "colors = [\"green\", \"yellow\", \"blue\"]\n",
    "print(colors)\n",
    "colors.sort()\n",
    "print(colors)"
   ]
  },
  {
   "cell_type": "code",
   "execution_count": 48,
   "metadata": {},
   "outputs": [
    {
     "name": "stdout",
     "output_type": "stream",
     "text": [
      "[2, 593, 1595, 39010]\n"
     ]
    }
   ],
   "source": [
    "# Sort a list of numbers\n",
    "numbers = [593, 2, 39010, 1595]\n",
    "numbers.sort()\n",
    "print(numbers)"
   ]
  },
  {
   "cell_type": "markdown",
   "metadata": {},
   "source": [
    "Also useful are the functions `sum()`, `min()`, `max()`. These can also be used on tuples."
   ]
  },
  {
   "cell_type": "code",
   "execution_count": 56,
   "metadata": {},
   "outputs": [
    {
     "name": "stdout",
     "output_type": "stream",
     "text": [
      "362 12 300\n",
      "35 5 20\n"
     ]
    }
   ],
   "source": [
    "number_list = [300, 12, 50]\n",
    "number_tuple = (10, 20, 5)\n",
    "print(sum(number_list), min(number_list), max(number_list))\n",
    "print(sum(number_tuple), min(number_tuple), max(number_tuple))"
   ]
  },
  {
   "cell_type": "markdown",
   "metadata": {},
   "source": [
    "### Sets\n",
    "Sets are similar to lists but do not hold multiple repetition of the same value."
   ]
  },
  {
   "cell_type": "code",
   "execution_count": 70,
   "metadata": {},
   "outputs": [
    {
     "name": "stdout",
     "output_type": "stream",
     "text": [
      "{'a', 'b'} <class 'set'>\n",
      "{'a', 'b'}\n",
      "{'c', 'a', 'b'}\n"
     ]
    }
   ],
   "source": [
    "a = {\"a\", \"b\"} # note that {} is not an empty set but an empty dictionary!\n",
    "print(a, type(a))\n",
    "a.add(\"a\")\n",
    "print(a)\n",
    "a.add(\"c\")\n",
    "print(a)"
   ]
  },
  {
   "cell_type": "code",
   "execution_count": 71,
   "metadata": {},
   "outputs": [
    {
     "name": "stdout",
     "output_type": "stream",
     "text": [
      "{1, 2, 3, 4, 5}\n"
     ]
    }
   ],
   "source": [
    "# We can also build it from a list using the function set()\n",
    "l = [1,2,2,3,4,5]\n",
    "s = set(l) # repeated elements will not be preserved!\n",
    "print(s)"
   ]
  },
  {
   "cell_type": "markdown",
   "metadata": {},
   "source": [
    "### Dictionaries\n",
    "Dictionaries map a key to a value (key-value pair). Keys and values can be of any valid Python type (e.g. integers, floats, strings, Boolean, tuples), and do not have to be homogeneous in general (but again, there is difference between what you *can* and what you *should* do. Also, the key has to be immutable - you can't use a list as the key."
   ]
  },
  {
   "cell_type": "code",
   "execution_count": 58,
   "metadata": {},
   "outputs": [
    {
     "name": "stdout",
     "output_type": "stream",
     "text": [
      "{''} <class 'set'>\n",
      "{} <class 'dict'>\n"
     ]
    }
   ],
   "source": [
    "a = {\"\", \"\"}\n",
    "d = {}\n",
    "print(a, type(a))\n",
    "print(d, type(d))"
   ]
  },
  {
   "cell_type": "markdown",
   "metadata": {},
   "source": [
    "Here is a silly example of a dictionary"
   ]
  },
  {
   "cell_type": "code",
   "execution_count": 73,
   "metadata": {},
   "outputs": [
    {
     "name": "stdout",
     "output_type": "stream",
     "text": [
      "{1: 'a', 'b': 2}\n"
     ]
    }
   ],
   "source": [
    "d = dict() # initialisation statement\n",
    "d[1] = 'a' # 1 is the key, a is the value\n",
    "d['b'] = 2 # 'b' is the key, 2 is the value\n",
    "\n",
    "\n",
    "\"\"\"\n",
    "As mixed as it gets (almost).\n",
    "A bit confusing.\n",
    "Also not very useful?    \n",
    "\"\"\"\n",
    "print(d)"
   ]
  },
  {
   "cell_type": "markdown",
   "metadata": {},
   "source": [
    "Here is a more sensible example."
   ]
  },
  {
   "cell_type": "code",
   "execution_count": 63,
   "metadata": {},
   "outputs": [
    {
     "name": "stdout",
     "output_type": "stream",
     "text": [
      "{'Elisa': 'Germany', 'Norah': 'New York', 'Kristen': 'Pennsylvania'}\n"
     ]
    }
   ],
   "source": [
    "family_locations = { 'Elisa' : 'Germany', 'Norah' : 'New York', 'Kristen' : 'Pennsylvania'}\n",
    "print(family_locations)"
   ]
  },
  {
   "cell_type": "code",
   "execution_count": 62,
   "metadata": {},
   "outputs": [
    {
     "name": "stdout",
     "output_type": "stream",
     "text": [
      "Germany\n"
     ]
    }
   ],
   "source": [
    "# Access a value\n",
    "print(family_locations[\"Elisa\"])"
   ]
  },
  {
   "cell_type": "markdown",
   "metadata": {},
   "source": [
    "Note that we could store the same information with a list - why is a dictionary more convenient?\n",
    "\n",
    "Dictionaries are mutable, we can add, overwrite, and delete elements."
   ]
  },
  {
   "cell_type": "code",
   "execution_count": 65,
   "metadata": {},
   "outputs": [
    {
     "name": "stdout",
     "output_type": "stream",
     "text": [
      "{'Elisa': 'Germany', 'Norah': 'New York', 'Kristen': 'Pennsylvania', 'Eric': 'Wisconsin'}\n"
     ]
    }
   ],
   "source": [
    "# Add element to dictionary\n",
    "family_locations['Eric'] = 'Wisconsin'\n",
    "print(family_locations)"
   ]
  },
  {
   "cell_type": "code",
   "execution_count": 66,
   "metadata": {},
   "outputs": [
    {
     "name": "stdout",
     "output_type": "stream",
     "text": [
      "{'Elisa': 'Germany', 'Norah': 'Germany', 'Kristen': 'Pennsylvania', 'Eric': 'Wisconsin'}\n"
     ]
    }
   ],
   "source": [
    "# Overwrite/update element in a dictionary\n",
    "family_locations['Norah'] = 'Germany'\n",
    "print(family_locations)"
   ]
  },
  {
   "cell_type": "code",
   "execution_count": 67,
   "metadata": {},
   "outputs": [
    {
     "name": "stdout",
     "output_type": "stream",
     "text": [
      "{'Norah': 'Germany', 'Kristen': 'Pennsylvania', 'Eric': 'Wisconsin'}\n"
     ]
    }
   ],
   "source": [
    "# Delete element from a dictionary\n",
    "del family_locations['Elisa']\n",
    "print(family_locations)"
   ]
  },
  {
   "cell_type": "markdown",
   "metadata": {},
   "source": [
    "What happens when we try to access a key that isn't in the dictionary?"
   ]
  },
  {
   "cell_type": "code",
   "execution_count": 69,
   "metadata": {},
   "outputs": [
    {
     "ename": "KeyError",
     "evalue": "'Paul'",
     "output_type": "error",
     "traceback": [
      "\u001b[0;31m---------------------------------------------------------------------------\u001b[0m",
      "\u001b[0;31mKeyError\u001b[0m                                  Traceback (most recent call last)",
      "Cell \u001b[0;32mIn[69], line 1\u001b[0m\n\u001b[0;32m----> 1\u001b[0m \u001b[38;5;28mprint\u001b[39m(\u001b[43mfamily_locations\u001b[49m\u001b[43m[\u001b[49m\u001b[38;5;124;43m\"\u001b[39;49m\u001b[38;5;124;43mPaul\u001b[39;49m\u001b[38;5;124;43m\"\u001b[39;49m\u001b[43m]\u001b[49m)\n",
      "\u001b[0;31mKeyError\u001b[0m: 'Paul'"
     ]
    }
   ],
   "source": [
    "print(family_locations[\"Paul\"])"
   ]
  },
  {
   "cell_type": "markdown",
   "metadata": {},
   "source": [
    "- Dictionaries are one-way maps: you can get a value given its key, you can have repeated values but not repeated keys!\n",
    "- You can use integers as keys, but this does not turn a dictionary into a vector.\n",
    "- Dictionaries in old versions of Python (before 3.6) had the key-value pairs stored in random order. In newer Python versions, the dictionary will preserve the order the elements have been inserted."
   ]
  },
  {
   "cell_type": "markdown",
   "metadata": {},
   "source": [
    "### A simple structured dataset\n",
    "\n",
    "A common situation in science is having a table with labeled data. python does not provide a native table or matrix format, but you can achieve something similar with a dictionary of lists, for example:"
   ]
  },
  {
   "cell_type": "code",
   "execution_count": 75,
   "metadata": {},
   "outputs": [
    {
     "name": "stdout",
     "output_type": "stream",
     "text": [
      "{'name': ['proton, neutron, electron'], 'symbol': ['p', 'n', 'e'], 'mass': [938, 939, 0.511]}\n"
     ]
    }
   ],
   "source": [
    "names = ['proton, neutron, electron']\n",
    "symbols = ['p', 'n', 'e']\n",
    "masses = [938, 939, 0.511]\n",
    "\n",
    "particles = { \"name\" : names, \"symbol\" : symbols, \"mass\" : masses}\n",
    "\n",
    "print(particles)"
   ]
  },
  {
   "cell_type": "markdown",
   "metadata": {},
   "source": [
    "Now, if you access a given index on each list, you will get all the properties of a particle. This is still a crude way to build a structured dataset, but one that can be easily converted in the formats used by popular libraries."
   ]
  },
  {
   "cell_type": "markdown",
   "metadata": {},
   "source": [
    "### `in` operator\n",
    "The `in` operator has two main use cases:\n",
    "- check if a string is part of another string;\n",
    "- check if a value is present in a collection."
   ]
  },
  {
   "cell_type": "code",
   "execution_count": 77,
   "metadata": {},
   "outputs": [
    {
     "name": "stdout",
     "output_type": "stream",
     "text": [
      "True\n",
      "False\n"
     ]
    }
   ],
   "source": [
    "a = \"hello\" in \"hello world\"\n",
    "print(a)\n",
    "\n",
    "b = 3 in [2,4,5]\n",
    "print(b)"
   ]
  },
  {
   "cell_type": "markdown",
   "metadata": {},
   "source": [
    "## 2. Strings"
   ]
  },
  {
   "cell_type": "markdown",
   "metadata": {},
   "source": [
    "### String manipulation\n",
    "Strings are an immutable sequence of characters, similar to a tuple, which we learned about last week. We can use the built-in `len()` function on them, as well as slicing, which we used above to get sub-lists."
   ]
  },
  {
   "cell_type": "code",
   "execution_count": 3,
   "metadata": {},
   "outputs": [
    {
     "name": "stdout",
     "output_type": "stream",
     "text": [
      "Hello World! 12\n"
     ]
    }
   ],
   "source": [
    "my_string = \"Hello World!\"\n",
    "print(my_string, len(my_string))"
   ]
  },
  {
   "cell_type": "markdown",
   "metadata": {},
   "source": [
    "Slice to print part of the string."
   ]
  },
  {
   "cell_type": "code",
   "execution_count": 4,
   "metadata": {},
   "outputs": [
    {
     "name": "stdout",
     "output_type": "stream",
     "text": [
      "Hello \n"
     ]
    }
   ],
   "source": [
    "print(my_string[0:6])"
   ]
  },
  {
   "cell_type": "markdown",
   "metadata": {},
   "source": [
    "Use a negative index to get the end of the string."
   ]
  },
  {
   "cell_type": "code",
   "execution_count": 5,
   "metadata": {},
   "outputs": [
    {
     "name": "stdout",
     "output_type": "stream",
     "text": [
      "!\n"
     ]
    }
   ],
   "source": [
    "print(my_string[-1:])"
   ]
  },
  {
   "cell_type": "markdown",
   "metadata": {},
   "source": [
    "Or even reverse the string!"
   ]
  },
  {
   "cell_type": "code",
   "execution_count": 6,
   "metadata": {},
   "outputs": [
    {
     "name": "stdout",
     "output_type": "stream",
     "text": [
      "!dlroW olleH\n"
     ]
    }
   ],
   "source": [
    "print(my_string[::-1])"
   ]
  },
  {
   "cell_type": "markdown",
   "metadata": {},
   "source": [
    "We can \"add\" or concatenate multiple strings with the operator `+`."
   ]
  },
  {
   "cell_type": "code",
   "execution_count": 7,
   "metadata": {},
   "outputs": [
    {
     "name": "stdout",
     "output_type": "stream",
     "text": [
      "Hello World!\n"
     ]
    }
   ],
   "source": [
    "my_string_1 = \"Hello \"\n",
    "my_string_2 = \"World!\"\n",
    "print(my_string_1 + my_string_2)"
   ]
  },
  {
   "cell_type": "markdown",
   "metadata": {},
   "source": [
    "Let's try out some interesting string methods: `.lower()`, `.upper()`, `.rstrip()`, `.lstrip()`, `.strip()`, `.startswith()`, `.endswith()`, `.find()`, and `.replace()`."
   ]
  },
  {
   "cell_type": "code",
   "execution_count": 8,
   "metadata": {},
   "outputs": [
    {
     "data": {
      "text/plain": [
       "'HELLO WORLD!'"
      ]
     },
     "execution_count": 8,
     "metadata": {},
     "output_type": "execute_result"
    }
   ],
   "source": [
    "my_string.upper()"
   ]
  },
  {
   "cell_type": "markdown",
   "metadata": {},
   "source": [
    "Notice that this function prints a new string, the original string is not modified."
   ]
  },
  {
   "cell_type": "code",
   "execution_count": 16,
   "metadata": {},
   "outputs": [
    {
     "name": "stdout",
     "output_type": "stream",
     "text": [
      "Hello World!\n"
     ]
    }
   ],
   "source": [
    "print(my_string)"
   ]
  },
  {
   "cell_type": "code",
   "execution_count": 9,
   "metadata": {},
   "outputs": [
    {
     "name": "stdout",
     "output_type": "stream",
     "text": [
      "    Hello World!    \n"
     ]
    }
   ],
   "source": [
    "my_string = \"    Hello World!    \"\n",
    "print(my_string)"
   ]
  },
  {
   "cell_type": "markdown",
   "metadata": {},
   "source": [
    "We can remove white space with `.lstrip()` `.rstrip()` and `.strip()`"
   ]
  },
  {
   "cell_type": "code",
   "execution_count": 12,
   "metadata": {},
   "outputs": [
    {
     "data": {
      "text/plain": [
       "'    Hello World!'"
      ]
     },
     "execution_count": 12,
     "metadata": {},
     "output_type": "execute_result"
    }
   ],
   "source": [
    "my_string.rstrip()"
   ]
  },
  {
   "cell_type": "markdown",
   "metadata": {},
   "source": [
    "We can get information about the string contents with `.endswith()` and `.find()`."
   ]
  },
  {
   "cell_type": "code",
   "execution_count": 13,
   "metadata": {},
   "outputs": [
    {
     "data": {
      "text/plain": [
       "True"
      ]
     },
     "execution_count": 13,
     "metadata": {},
     "output_type": "execute_result"
    }
   ],
   "source": [
    "my_string = \"Hello World!\"\n",
    "my_string.endswith(\"!\")"
   ]
  },
  {
   "cell_type": "code",
   "execution_count": null,
   "metadata": {},
   "outputs": [],
   "source": [
    "print(my_string.find(\"o \"))\n",
    "print(my_string.find(\"vjke35i345\"))"
   ]
  },
  {
   "cell_type": "markdown",
   "metadata": {},
   "source": [
    "Or replace part of the string with `.replace()`. Again, the original string is not modified."
   ]
  },
  {
   "cell_type": "code",
   "execution_count": 19,
   "metadata": {},
   "outputs": [
    {
     "name": "stdout",
     "output_type": "stream",
     "text": [
      "Hello Back At You!\n",
      "Hello World!\n"
     ]
    }
   ],
   "source": [
    "print(my_string.replace(\"World\", \"Back At You\"))\n",
    "print(my_string)"
   ]
  },
  {
   "cell_type": "markdown",
   "metadata": {},
   "source": [
    "### String formatting\n",
    "In python, there are several ways of building strings incorporating different types of variables. If you are curious about the disadvantages/advantages of different string formatting methods, you can read this article: https://realpython.com/python-string-formatting/#3-string-interpolation-f-strings-python-36."
   ]
  },
  {
   "cell_type": "markdown",
   "metadata": {},
   "source": [
    "### String interpolation (legacy)\n",
    "The oldest style is *[string interpolation](https://docs.python.org/3/library/stdtypes.html#old-string-formatting)*:"
   ]
  },
  {
   "cell_type": "code",
   "execution_count": 20,
   "metadata": {},
   "outputs": [
    {
     "name": "stdout",
     "output_type": "stream",
     "text": [
      "a = 1.23\n"
     ]
    }
   ],
   "source": [
    "a = 1.2345\n",
    "b = 42\n",
    "#print(\"a = %d, b = %d\" % (a, b)) # d -> integer\n",
    "#print(\"a = %02d\" % a)\n",
    "#print(\"a = %f\" % a) # f -> float\n",
    "print(\"a = %.2f\" % a)"
   ]
  },
  {
   "cell_type": "markdown",
   "metadata": {},
   "source": [
    "The %d and similar strings (%s, %x) are called format strings. This style has many pitfalls, is basically deprecated and we recommend against using it in your code, it is just included here in case you come across it in existing code."
   ]
  },
  {
   "cell_type": "markdown",
   "metadata": {},
   "source": [
    "### f-strings and format() method\n",
    "*f-strings* are *formatted string literals* allowing to easily incorporate python variables and expressions in strings. An alternative and less compact notation uses the `format()` method."
   ]
  },
  {
   "cell_type": "code",
   "execution_count": 21,
   "metadata": {},
   "outputs": [
    {
     "name": "stdout",
     "output_type": "stream",
     "text": [
      "a = 1.2345, b = 42\n"
     ]
    }
   ],
   "source": [
    "a, b = 1.2345, 42\n",
    "#print(f\"a = {a}, b = {b}\") # this is simple\n",
    "#print(f\"{a=}, {b=}\") # this is even more compact, although less flexible\n",
    "print(\"a = {}, b = {}\".format(a, b)) # this is an alternative standard, can be more or less readable depending on the circumstances"
   ]
  },
  {
   "cell_type": "markdown",
   "metadata": {},
   "source": [
    "You can control the spacing, number of zeros, number of decimals etc. with specific format strings. Let's try with a pair of `int` values."
   ]
  },
  {
   "cell_type": "code",
   "execution_count": 22,
   "metadata": {},
   "outputs": [
    {
     "name": "stdout",
     "output_type": "stream",
     "text": [
      "b = 1042\n",
      "b = 1042\n",
      "b =  1042\n",
      "a =   42\n",
      "a = 0042\n"
     ]
    }
   ],
   "source": [
    "a, b = 42, 1042\n",
    "print(f\"b = {b}\")\n",
    "print(f\"b = {b:4d}\")\n",
    "print(f\"b = {b:5d}\")\n",
    "print(f\"a = {a:4d}\") # this fill up to 4 spaces regardless of the number of digits\n",
    "print(f\"a = {a:04d}\") # this will fill with zeros instead"
   ]
  },
  {
   "cell_type": "markdown",
   "metadata": {},
   "source": [
    "And now with `float` values."
   ]
  },
  {
   "cell_type": "code",
   "execution_count": 24,
   "metadata": {},
   "outputs": [
    {
     "name": "stdout",
     "output_type": "stream",
     "text": [
      "a = 123.456\n",
      "a = 123.46\n",
      "a = 123.456000\n",
      "a = 1.23e+02\n"
     ]
    }
   ],
   "source": [
    "a = 123.456\n",
    "print(f\"a = {a}\") # default\n",
    "print(f\"a = {a:.2f}\") # only print two places past the decimal place\n",
    "print(f\"a = {a:.6f}\") # print 6 places past the decimal place\n",
    "print(f\"a = {a:.2e}\") # exponential notation!"
   ]
  },
  {
   "cell_type": "markdown",
   "metadata": {},
   "source": [
    "You can even do inline arithmetic with f-strings."
   ]
  },
  {
   "cell_type": "markdown",
   "metadata": {},
   "source": [
    "### Multiline strings\n",
    "You can build a multiline string using the newline (`\\n`) escape sequence. What's an escape sequence? It's a sequence of characters that starts with a special character (`\\`) and is subject to a special treatment. Here is an example where it is important, using the `print()` function."
   ]
  },
  {
   "cell_type": "code",
   "execution_count": 25,
   "metadata": {},
   "outputs": [
    {
     "ename": "SyntaxError",
     "evalue": "unterminated string literal (detected at line 1) (2091332172.py, line 1)",
     "output_type": "error",
     "traceback": [
      "\u001b[0;36m  Cell \u001b[0;32mIn[25], line 1\u001b[0;36m\u001b[0m\n\u001b[0;31m    print('Let's escape!')\u001b[0m\n\u001b[0m                        ^\u001b[0m\n\u001b[0;31mSyntaxError\u001b[0m\u001b[0;31m:\u001b[0m unterminated string literal (detected at line 1)\n"
     ]
    }
   ],
   "source": [
    "print('Let's escape!')"
   ]
  },
  {
   "cell_type": "code",
   "execution_count": 26,
   "metadata": {},
   "outputs": [
    {
     "name": "stdout",
     "output_type": "stream",
     "text": [
      "Let's escape!\n",
      "Let's not escape!\n"
     ]
    }
   ],
   "source": [
    "\"\"\" \n",
    "If you want to print an apostrophe in a string delimited by apostrophes, you will have to escape the character.\n",
    "\"\"\"\n",
    "print('Let\\'s escape!')\n",
    "\n",
    "\"\"\" \n",
    "But this will work flawlessly if you choose quotation marks as delimiters.\n",
    "\"\"\"\n",
    "print(\"Let's not escape!\")"
   ]
  },
  {
   "cell_type": "markdown",
   "metadata": {},
   "source": [
    "Back to multiline strings..."
   ]
  },
  {
   "cell_type": "code",
   "execution_count": 27,
   "metadata": {},
   "outputs": [
    {
     "name": "stdout",
     "output_type": "stream",
     "text": [
      "Line 1\n",
      "Line 2\n",
      "Line 3\n"
     ]
    }
   ],
   "source": [
    "print(\"Line 1\\nLine 2\\nLine 3\")"
   ]
  },
  {
   "cell_type": "markdown",
   "metadata": {},
   "source": [
    "You could get the same with three `print()` statements, however in some cases you may want to use a single one. For better readability, you could compose the string as follows:"
   ]
  },
  {
   "cell_type": "code",
   "execution_count": 28,
   "metadata": {},
   "outputs": [
    {
     "name": "stdout",
     "output_type": "stream",
     "text": [
      "Line 1\n",
      "Line 2\n",
      "Line 3\n"
     ]
    }
   ],
   "source": [
    "s = \"Line 1\\n\"\n",
    "s += \"Line 2\\n\"\n",
    "s += \"Line 3\"\n",
    "print(s)"
   ]
  },
  {
   "cell_type": "markdown",
   "metadata": {},
   "source": [
    "Code using this style can easily get very cluttered, so use this parsimoniously!"
   ]
  }
 ],
 "metadata": {
  "kernelspec": {
   "display_name": "Python 3 (ipykernel)",
   "language": "python",
   "name": "python3"
  },
  "language_info": {
   "codemirror_mode": {
    "name": "ipython",
    "version": 3
   },
   "file_extension": ".py",
   "mimetype": "text/x-python",
   "name": "python",
   "nbconvert_exporter": "python",
   "pygments_lexer": "ipython3",
   "version": "3.12.2"
  },
  "vscode": {
   "interpreter": {
    "hash": "ad60ba3d6748ebfd779dff164ecdca54fbf007dbac97c522a9077ed5230659e8"
   }
  }
 },
 "nbformat": 4,
 "nbformat_minor": 4
}
