{
 "cells": [
  {
   "cell_type": "markdown",
   "metadata": {},
   "source": [
    "# Getting Started"
   ]
  },
  {
   "cell_type": "markdown",
   "metadata": {},
   "source": [
    "You are looking at a *notebook*, structured file that allow to mix text (in the `markdown` format) and code (usually in `python`).\n",
    "\n",
    "Notebooks allow for a very intuitive interactive programming environment, although you will learn there are pitfalls! Notebooks are built out of cells. You can set cells to be code or markdown. Execute cells individually with \"shift-return\"."
   ]
  },
  {
   "cell_type": "markdown",
   "metadata": {},
   "source": [
    "## First operation"
   ]
  },
  {
   "cell_type": "code",
   "execution_count": null,
   "metadata": {},
   "outputs": [],
   "source": [
    "1 + -1"
   ]
  },
  {
   "cell_type": "markdown",
   "metadata": {},
   "source": [
    "Python reads the code, evaluates it, and prints the result."
   ]
  },
  {
   "cell_type": "markdown",
   "metadata": {},
   "source": [
    "## Hello World!\n",
    "We will start with a great classic of the history of programming, the \"hello world\"."
   ]
  },
  {
   "cell_type": "code",
   "execution_count": null,
   "metadata": {},
   "outputs": [],
   "source": [
    "print(\"Hello World!\")\n",
    "print(\"Hello students\")"
   ]
  },
  {
   "cell_type": "markdown",
   "metadata": {},
   "source": [
    "Here, `print()` is a *function*. We will learn more about functions later in the course. The `print()` function takes an input in the form of a string. We will learn more about variable types shortly. \n",
    "\n",
    "Note that `python` lines of code end at the new line and do not require any punctuation, whereas many languages use a semicolon (`;`)."
   ]
  },
  {
   "cell_type": "markdown",
   "metadata": {},
   "source": [
    "What happens if we don't give the `print()` function the input it expects?"
   ]
  },
  {
   "cell_type": "code",
   "execution_count": null,
   "metadata": {},
   "outputs": [],
   "source": [
    "print(\"Hello World!)"
   ]
  },
  {
   "cell_type": "code",
   "execution_count": null,
   "metadata": {},
   "outputs": [],
   "source": [
    "print(Hello World!)"
   ]
  },
  {
   "cell_type": "markdown",
   "metadata": {},
   "source": [
    "## On comments and strings"
   ]
  },
  {
   "cell_type": "markdown",
   "metadata": {},
   "source": [
    "It is a good practice to **document** your code. There are more or less sophisticated of doing this, but the basic level are *comments*. PEP convention is that comments should be complete sentences, and inline comments should start two spaces after the code."
   ]
  },
  {
   "cell_type": "code",
   "execution_count": 1,
   "metadata": {},
   "outputs": [
    {
     "name": "stdout",
     "output_type": "stream",
     "text": [
      "Hello World!\n"
     ]
    }
   ],
   "source": [
    "# This is a single-line comment. Anything after the '#' mark will be ignored, for example print(\"Hello World\").\n",
    "\n",
    "print(\"Hello World!\")  # We run this a second time to illustrate inline comments."
   ]
  },
  {
   "cell_type": "code",
   "execution_count": 2,
   "metadata": {},
   "outputs": [
    {
     "name": "stdout",
     "output_type": "stream",
     "text": [
      "That was a nice comment!\n"
     ]
    }
   ],
   "source": [
    "\"\"\"\n",
    "This is a multiline/block comment.\n",
    "Ideally it should describe what happens in the next block of code.\n",
    "We will print a different message.\n",
    "\"\"\"\n",
    "print(\"That was a nice comment!\")"
   ]
  },
  {
   "cell_type": "code",
   "execution_count": null,
   "metadata": {},
   "outputs": [],
   "source": [
    "'''\n",
    "This is also a multiline comment.\n",
    "We will use this cell to illustrate how ' ' and \" \" are equivalent.\n",
    "'''\n",
    "print('That was also a nice comment!')"
   ]
  },
  {
   "cell_type": "markdown",
   "metadata": {},
   "source": [
    "There is no functional difference between apostrophes (`''`) and quotation marks (`\"\"`) in `python` when used as string or comment delimiters. However, you may want to print a string with an apostrophe in it..."
   ]
  },
  {
   "cell_type": "code",
   "execution_count": null,
   "metadata": {},
   "outputs": [],
   "source": [
    "print('Let's escape!')"
   ]
  },
  {
   "cell_type": "code",
   "execution_count": null,
   "metadata": {},
   "outputs": [],
   "source": [
    "\"\"\" \n",
    "If you want to print an apostrophe in a string delimited by apostrophes, you will have to escape the character.\n",
    "\"\"\"\n",
    "print('Let\\'s escape!')\n",
    "\n",
    "\"\"\" \n",
    "But this will work flawlessly if you choose quotation marks as delimiters.\n",
    "\"\"\"\n",
    "print(\"Let's not escape!\")"
   ]
  },
  {
   "cell_type": "markdown",
   "metadata": {},
   "source": [
    "We then recommend you to use quotation marks as delimiters by default! Across most programming languages, strings are indeed delimited by quotation marks. In some languages such as C, apostrophes are used only to delimit single characters. It is a good idea to pick up \"habits\" that are portable, but also learn to be flexible and to adapt!"
   ]
  },
  {
   "cell_type": "markdown",
   "metadata": {},
   "source": [
    "# First steps\n",
    "\n",
    "The following is partially inspired by a past [Zeuthen Data Science Seminar](https://indico.desy.de/event/32700/) held by Jakob van Santen (DESY)."
   ]
  },
  {
   "cell_type": "markdown",
   "metadata": {},
   "source": [
    "## 1. Getting to know python\n",
    "Python is a programming language which is:\n",
    "- **interpreted**: the code of a python program is not compiled and translated into machine-language before execution, but rather translated line-by-line. We already have an example for this: the fact that we can have interactive notebooks! There is no real distinction between *compilation* and *runtime* like in compiled languages. A consequence of this is that computation-intensive operations are inherently inefficient (but we have libraries to get around this). \n",
    "- **strongly but dynamically typed**: variables have types, but these types are determined at *runtime*.   \n",
    "\n",
    "### Running python code\n",
    "- running the interpreter on a source file (script): `python3 script.py`\n",
    "- using an interactive prompt (also known as REPL, read-eval-print-loop). `ipython` is an example, Jupyter notebooks are just an improved way of doing it! "
   ]
  },
  {
   "cell_type": "markdown",
   "metadata": {},
   "source": [
    "## 2. Variables (actually, names and bindings)\n",
    "In traditional compiled programming languages, a variable has an *r-value* (a memory address) and an *l-value* (its actual value), so when we write an *assignment*:\n",
    "```C\n",
    "int a = 1; /* a little detour into the realm of C language */\n",
    "```\n",
    "it means that the binary representation of `1` is stored at a memory address statically associated to `a`. \n",
    "\n",
    "Python has a simpler syntax, partly because is a more abstract language:\n",
    "```python\n",
    "a = 1\n",
    "```\n",
    "where `a` is a *name* and `1` represents in general an *object*. This operation, strictly speaking, is a *name binding*.\n",
    "\n",
    "From now on, we will speak of *variables* and *assignments* for the sake of simplicity, but keep in mind that conceptually `python` is doing a different thing.\n",
    "\n",
    "What are the benefits of using variables in code? Why not just use `1` instead of assigning the value to the variable `a`?"
   ]
  },
  {
   "cell_type": "markdown",
   "metadata": {},
   "source": [
    "Let's practice...\n",
    "We will now show practical examples of the ideas we have just introduced! We can inspect the variable using the print() function."
   ]
  },
  {
   "cell_type": "code",
   "execution_count": null,
   "metadata": {},
   "outputs": [],
   "source": [
    "# first assignment\n",
    "a = 1\n",
    "print(a, type(a))"
   ]
  },
  {
   "cell_type": "markdown",
   "metadata": {},
   "source": [
    "Or we can inspect it without the print function."
   ]
  },
  {
   "cell_type": "code",
   "execution_count": null,
   "metadata": {},
   "outputs": [],
   "source": [
    "a"
   ]
  },
  {
   "cell_type": "code",
   "execution_count": null,
   "metadata": {},
   "outputs": [],
   "source": [
    "# second assignment\n",
    "a = \"hello world!\"\n",
    "print(a, type(a))"
   ]
  },
  {
   "cell_type": "code",
   "execution_count": null,
   "metadata": {},
   "outputs": [],
   "source": [
    "a"
   ]
  },
  {
   "cell_type": "markdown",
   "metadata": {},
   "source": [
    "Note that the type of a is automatically determined by the value we have assigned;\n",
    "even simple data types are represented as instances of a class (objects).\n",
    "Values directly written in code (1 and hello world!) take the name of literals."
   ]
  },
  {
   "cell_type": "markdown",
   "metadata": {},
   "source": [
    "### Watch those equal signs!\n",
    "\n",
    "`a = 1` is assigning a value to a variable.\n",
    "`a == 1` is testing the value of the variable."
   ]
  },
  {
   "cell_type": "code",
   "execution_count": null,
   "metadata": {},
   "outputs": [],
   "source": [
    "a = 1"
   ]
  },
  {
   "cell_type": "code",
   "execution_count": null,
   "metadata": {},
   "outputs": [],
   "source": [
    "a == 2"
   ]
  },
  {
   "cell_type": "markdown",
   "metadata": {},
   "source": [
    "### How to name your variables\n",
    "\n",
    "Is `a` a good variable name? When is it okay, when would it be a problem?\n",
    "\n",
    "Rules for naming variables: can contain numbers, letters, underscores. Cannot start with a digit. Good practice to make them descriptive!"
   ]
  },
  {
   "cell_type": "code",
   "execution_count": null,
   "metadata": {},
   "outputs": [],
   "source": [
    "1variable = 1"
   ]
  },
  {
   "cell_type": "markdown",
   "metadata": {},
   "source": [
    "### What about constants?\n",
    "There are no actual *constants* in python. This is an inconvenience we have to live with although it sometimes get in the way of writing solid code. Some people like to define constant value in capital letters, for example `PI = 3.14`, to avoid accidentally mixing them with variables. If you think about what we said on variables being *names*, the reason for the lack of constants should be clear."
   ]
  },
  {
   "cell_type": "markdown",
   "metadata": {},
   "source": [
    "## 3. Types\n",
    "Summary of native types:\n",
    "- string (`str`): contains characters, supports unicodes, there is no separate type for individual characters;\n",
    "- numeric types: integers (`int`) have variable-length, that means they do not have minimum or maximum values. Floating point numbers (`float`, numbers with a decimal point) are double precision (64 bit). An `int` or `float` can be negative. Important: **floating point** is a synonym of **variable precision**. This means that the resolution of your variable (i.e. the minimum difference between two values) depends on the order of magnitude of the number. Most of the times you will have enough precision for all practical purposes, but be aware that some numbers (especially decimals) may not have an exact representation!\n",
    "- booleans (`True` and `False`)\n",
    "- collections: `tuple` (immutable sequence), `list` (mutable sequence), `set` (set of unique items), `dict` (key-value mapping)\n",
    "- none `None` is a special object of `NoneType`, its usage may vary.\n",
    "Let's illustrate a how to write the corresponding literals:"
   ]
  },
  {
   "cell_type": "code",
   "execution_count": null,
   "metadata": {},
   "outputs": [],
   "source": [
    "\"python\"                            # str\n",
    "b\"\\xf0\\x9f\\x90\\x8d\"                 # bytes\n",
    "42                                  # int\n",
    "42., 42.0, 4.2e1                    # float\n",
    "(1, 42., \"python\")                  # tuple\n",
    "[1, 42., \"python\"]                  # list\n",
    "{1, 42., \"python\"}                  # set\n",
    "{1: \"foo\", 42.: \"bar\"}              # dict\n",
    "None                                # NoneType\n",
    "True, False                         # bool"
   ]
  },
  {
   "cell_type": "markdown",
   "metadata": {},
   "source": [
    "## 4. Types: Numeric data types\n",
    "We will learn more about the different types in the next lecture. Here, we focus on numeric types (`int` and `float`). An `int` can be arbitarily large, but `float` has a fixed size. Let's test this out! What happens with a really big float, like 1 raised to the 200? or 400?"
   ]
  },
  {
   "cell_type": "code",
   "execution_count": null,
   "metadata": {},
   "outputs": [],
   "source": [
    "big_number = 1.0e200\n",
    "print(big_number)"
   ]
  },
  {
   "cell_type": "code",
   "execution_count": null,
   "metadata": {},
   "outputs": [],
   "source": [
    "bigger_number = 1.0e400\n",
    "print(bigger_number)"
   ]
  },
  {
   "cell_type": "markdown",
   "metadata": {},
   "source": [
    "Note that the type of the variable is still `float`, even though python can't evaluate the value. "
   ]
  },
  {
   "cell_type": "code",
   "execution_count": null,
   "metadata": {},
   "outputs": [],
   "source": [
    "type(bigger_number)"
   ]
  },
  {
   "cell_type": "markdown",
   "metadata": {},
   "source": [
    "You can also end up with negative infinity."
   ]
  },
  {
   "cell_type": "code",
   "execution_count": null,
   "metadata": {},
   "outputs": [],
   "source": [
    "bigger_number = -1.0e400\n",
    "print(bigger_number)"
   ]
  },
  {
   "cell_type": "code",
   "execution_count": null,
   "metadata": {},
   "outputs": [],
   "source": [
    "a = 2E2\n",
    "print(a)\n",
    "a = 2e2\n",
    "print(a)"
   ]
  },
  {
   "cell_type": "markdown",
   "metadata": {},
   "source": [
    "The exponent can also be negative."
   ]
  },
  {
   "cell_type": "code",
   "execution_count": null,
   "metadata": {},
   "outputs": [],
   "source": [
    "a = 1e-1\n",
    "print(a)"
   ]
  },
  {
   "cell_type": "markdown",
   "metadata": {},
   "source": [
    "We also have the option to use underscores, rather than E notation to make big numbers more readable. We will discuss how to make the printout more readable in a later lecture."
   ]
  },
  {
   "cell_type": "code",
   "execution_count": null,
   "metadata": {},
   "outputs": [],
   "source": [
    "a = 123_456_789.0\n",
    "print(a)"
   ]
  },
  {
   "cell_type": "markdown",
   "metadata": {},
   "source": [
    "## 5. Basic operations with `int` and `float`"
   ]
  },
  {
   "cell_type": "markdown",
   "metadata": {},
   "source": [
    "Typical arithmetic operations are represented by the usual symbols: `+`, `-`, `*`, `/`. "
   ]
  },
  {
   "cell_type": "code",
   "execution_count": null,
   "metadata": {},
   "outputs": [],
   "source": [
    "a = 1 # int\n",
    "b = 2 # int\n",
    "c = a + b\n",
    "print(c, type(c))"
   ]
  },
  {
   "cell_type": "code",
   "execution_count": null,
   "metadata": {},
   "outputs": [],
   "source": [
    "a = 1 # int\n",
    "b = 0.2 # float\n",
    "c = a + b # will be a float!\n",
    "print(c, type(c)) "
   ]
  },
  {
   "cell_type": "markdown",
   "metadata": {},
   "source": [
    "As in other languages, an operation such as `a = a + 1` can be abbreviated with `a += 1`. While it can be tempting, and sometimes convenient, to use this shorthand notation to prepare a variable that has to be used later on, **avoid** using the same name for different meanings in the same block of code: it will quickly lead to confusion.\n",
    "\n",
    "Subtraction and multiplication work just as you would expect, including with negative numbers."
   ]
  },
  {
   "cell_type": "code",
   "execution_count": null,
   "metadata": {},
   "outputs": [],
   "source": [
    "a = 3\n",
    "b = -3\n",
    "c = a + b\n",
    "d = a - b\n",
    "print(c, d)"
   ]
  },
  {
   "cell_type": "code",
   "execution_count": null,
   "metadata": {},
   "outputs": [],
   "source": [
    "a = 3\n",
    "b = -2\n",
    "c = a*b\n",
    "print(c, type(c))"
   ]
  },
  {
   "cell_type": "markdown",
   "metadata": {},
   "source": [
    "Division is special."
   ]
  },
  {
   "cell_type": "code",
   "execution_count": null,
   "metadata": {},
   "outputs": [],
   "source": [
    "a, b = 5, 2\n",
    "c = a / b\n",
    "print(c, type(c))"
   ]
  },
  {
   "cell_type": "markdown",
   "metadata": {},
   "source": [
    "The above statement reads very intuitively for a human, but from a computer's perspective is awkward: an operation between two integers actually returns a float!\n",
    "\n",
    "We can force return of an integer using the build-in int() function, but this is error-prone:"
   ]
  },
  {
   "cell_type": "code",
   "execution_count": null,
   "metadata": {},
   "outputs": [],
   "source": [
    "print(int(c))"
   ]
  },
  {
   "cell_type": "markdown",
   "metadata": {},
   "source": [
    "`c` is truncated instead of rounded!"
   ]
  },
  {
   "cell_type": "markdown",
   "metadata": {},
   "source": [
    "### Integer division\n",
    "We can perform Euclidean division (with remainder) using to the floor `//` and modulus `%` operators:"
   ]
  },
  {
   "cell_type": "code",
   "execution_count": null,
   "metadata": {},
   "outputs": [],
   "source": [
    "a, b = 10, 8\n",
    "d = a // b\n",
    "e = a % b\n",
    "print(d , e)"
   ]
  },
  {
   "cell_type": "markdown",
   "metadata": {},
   "source": [
    "In `python`, the `//` operator takes the name of *floor division* and together with `%` is also defined for floats:"
   ]
  },
  {
   "cell_type": "code",
   "execution_count": null,
   "metadata": {},
   "outputs": [],
   "source": [
    "a = 3.5\n",
    "b = 1.2\n",
    "print(a // b, a % b)"
   ]
  },
  {
   "cell_type": "markdown",
   "metadata": {},
   "source": [
    "One can interpret `//` between floats as a normal division `/` followed by a *floor function* returning the nearest smaller integer. Strictly speaking, a `//` between integers is a different operation altogether, but the two provide consistent results across integers and float."
   ]
  },
  {
   "cell_type": "markdown",
   "metadata": {},
   "source": [
    "### Modulus\n",
    "\n",
    "We might also be interested in the remainder from dividing integers."
   ]
  },
  {
   "cell_type": "code",
   "execution_count": null,
   "metadata": {},
   "outputs": [],
   "source": [
    "14%2"
   ]
  },
  {
   "cell_type": "code",
   "execution_count": null,
   "metadata": {},
   "outputs": [],
   "source": [
    "15%6"
   ]
  },
  {
   "cell_type": "markdown",
   "metadata": {},
   "source": [
    "Division by zero or looking for the modulus after division by zero will throw an error"
   ]
  },
  {
   "cell_type": "code",
   "execution_count": null,
   "metadata": {},
   "outputs": [],
   "source": [
    "15/0"
   ]
  },
  {
   "cell_type": "code",
   "execution_count": null,
   "metadata": {},
   "outputs": [],
   "source": [
    "15%0"
   ]
  },
  {
   "cell_type": "markdown",
   "metadata": {},
   "source": [
    "### Raising to a power\n",
    "\n",
    "There are two ways to do this, `x**y` and the built-in function `pow(x, y)`."
   ]
  },
  {
   "cell_type": "code",
   "execution_count": null,
   "metadata": {},
   "outputs": [],
   "source": [
    "a = 2\n",
    "b = 3\n",
    "c = a**b # a^b\n",
    "d = pow(a, b) # a^b\n",
    "print(c, d)\n",
    "# reverse it\n",
    "c = b**a\n",
    "d = pow(b, a)\n",
    "print(c, d)"
   ]
  },
  {
   "cell_type": "markdown",
   "metadata": {},
   "source": [
    "Both of these options work with floats for the base and the exponent, and negative numbers in the expected manner."
   ]
  },
  {
   "cell_type": "code",
   "execution_count": null,
   "metadata": {},
   "outputs": [],
   "source": [
    "a = 4\n",
    "b = 0.5\n",
    "c = a**b\n",
    "d = pow(a, b)\n",
    "print(c, d)"
   ]
  },
  {
   "cell_type": "code",
   "execution_count": null,
   "metadata": {},
   "outputs": [],
   "source": [
    "a = -4.0\n",
    "b = 2\n",
    "c = a**b\n",
    "d = pow(a, b)\n",
    "print(c, d)"
   ]
  },
  {
   "cell_type": "code",
   "execution_count": null,
   "metadata": {},
   "outputs": [],
   "source": [
    "a = -4.0\n",
    "b = -0.5\n",
    "c = a**b\n",
    "d = pow(a, b)\n",
    "print(c, d)"
   ]
  },
  {
   "cell_type": "markdown",
   "metadata": {},
   "source": [
    "But what is this?! Complex numbers are also built-in types in python."
   ]
  },
  {
   "cell_type": "markdown",
   "metadata": {},
   "source": [
    "### Complex numbers"
   ]
  },
  {
   "cell_type": "code",
   "execution_count": null,
   "metadata": {},
   "outputs": [],
   "source": [
    "c = 3.1 - 0.5j\n",
    "print(c, type(c))"
   ]
  },
  {
   "cell_type": "markdown",
   "metadata": {},
   "source": [
    "Complex numbers in python have two properties, `real` and `imag`, accessed by the dot operator. We will learn more about properties when we discuss classes."
   ]
  },
  {
   "cell_type": "code",
   "execution_count": null,
   "metadata": {},
   "outputs": [],
   "source": [
    "c.real"
   ]
  },
  {
   "cell_type": "code",
   "execution_count": null,
   "metadata": {},
   "outputs": [],
   "source": [
    "c.imag"
   ]
  },
  {
   "cell_type": "markdown",
   "metadata": {},
   "source": [
    "We can perform normal arithmetic operations with complex numbers."
   ]
  },
  {
   "cell_type": "code",
   "execution_count": null,
   "metadata": {},
   "outputs": [],
   "source": [
    "d = -3.1 + 0.5j\n",
    "sum = c + d\n",
    "diff = c - d\n",
    "print(sum, type(sum))\n",
    "print(diff, type(diff))"
   ]
  },
  {
   "cell_type": "markdown",
   "metadata": {},
   "source": [
    "Complex numbers also have the `conjugate()` method associated to them, which takes the complex conjugate. Again, we will learn more about what this means later in the course."
   ]
  },
  {
   "cell_type": "code",
   "execution_count": null,
   "metadata": {},
   "outputs": [],
   "source": [
    "print(c.conjugate())"
   ]
  },
  {
   "cell_type": "markdown",
   "metadata": {},
   "source": [
    "### More complex expressions\n",
    "\n",
    "Expressions involving multiple arithematic operations will be evaluated with the normal order of operations, even without parentheses. But it doesn't hurt to add parentheses for clarity."
   ]
  },
  {
   "cell_type": "code",
   "execution_count": null,
   "metadata": {},
   "outputs": [],
   "source": [
    "a = 3\n",
    "b = 2\n",
    "c = 10\n",
    "\n",
    "d = a*b + c\n",
    "print(d)\n",
    "\n",
    "d = (a*b) + c\n",
    "print(d)"
   ]
  },
  {
   "cell_type": "markdown",
   "metadata": {},
   "source": [
    "### A few useful functions: abs() and round()\n",
    "\n",
    "Aside: we have seen a few built-in functions so far, including `print()`, `type()` and `int()`. Some built-in functions do something, like printing, some make something, like a list that can be filled with items. Check here for all of python's built-in functions: https://docs.python.org/3/library/functions.html. We'll discuss more about functions in a later lecture."
   ]
  },
  {
   "cell_type": "code",
   "execution_count": null,
   "metadata": {},
   "outputs": [],
   "source": [
    "abs(-10.)"
   ]
  },
  {
   "cell_type": "code",
   "execution_count": null,
   "metadata": {},
   "outputs": [],
   "source": [
    "abs(2 - 5j)"
   ]
  },
  {
   "cell_type": "markdown",
   "metadata": {},
   "source": [
    "Rounding numbers seems like it should be trivial, but watch out!"
   ]
  },
  {
   "cell_type": "code",
   "execution_count": null,
   "metadata": {},
   "outputs": [],
   "source": [
    "round(2.1)"
   ]
  },
  {
   "cell_type": "code",
   "execution_count": null,
   "metadata": {},
   "outputs": [],
   "source": [
    "round(5.7)"
   ]
  },
  {
   "cell_type": "code",
   "execution_count": null,
   "metadata": {},
   "outputs": [],
   "source": [
    "round(1.5)"
   ]
  },
  {
   "cell_type": "code",
   "execution_count": null,
   "metadata": {},
   "outputs": [],
   "source": [
    "round(2.5)"
   ]
  },
  {
   "cell_type": "markdown",
   "metadata": {},
   "source": [
    "While normally we round all numbers ending in 5 up, python uses \"rounding ties to even\", where if the digit before 5 is even, the number is rounded down, and if it is odd, the number is rounded up. This convention comes from electrical engineering.\n",
    "\n",
    "`round()` takes a second argument specifying the which place to round to. This must be an integer!"
   ]
  },
  {
   "cell_type": "code",
   "execution_count": null,
   "metadata": {},
   "outputs": [],
   "source": [
    "round(1.2345, 2)"
   ]
  },
  {
   "cell_type": "code",
   "execution_count": null,
   "metadata": {},
   "outputs": [],
   "source": [
    "round(1.2345, 2.1)"
   ]
  },
  {
   "cell_type": "markdown",
   "metadata": {},
   "source": [
    "## 6. Basic operations with booleans\n",
    "Let's show some boolean operations."
   ]
  },
  {
   "cell_type": "code",
   "execution_count": null,
   "metadata": {},
   "outputs": [],
   "source": [
    "a = True\n",
    "b = not a\n",
    "print(a, b, type(a), type(b))"
   ]
  },
  {
   "cell_type": "code",
   "execution_count": null,
   "metadata": {},
   "outputs": [],
   "source": [
    "c = a and b\n",
    "d = a or b\n",
    "print(c, d)"
   ]
  },
  {
   "cell_type": "markdown",
   "metadata": {},
   "source": [
    "In `python` as in other languages you can find *bitwise* operators, that they work as `not`, `and`, `or` but at the bit level. These are `&` (and), `|` (or), `~` (not). We will not go deeper into this, for now."
   ]
  },
  {
   "cell_type": "markdown",
   "metadata": {},
   "source": [
    "### Comparisons\n",
    "Comparisons operators... compare two values and return a boolean. You can either print directly or store the boolean in a further variable."
   ]
  },
  {
   "cell_type": "code",
   "execution_count": null,
   "metadata": {},
   "outputs": [],
   "source": [
    "a = 2\n",
    "b = 1\n",
    "print(a == b) # are they equal?\n",
    "c = (a != b) # are they different?\n",
    "print(c)"
   ]
  },
  {
   "cell_type": "markdown",
   "metadata": {},
   "source": [
    "Don't forget the usual arithmetic comparisons: `>` (greater), `>=` (greater or equal), `<` (lesser), `<=` (lesser or equal)."
   ]
  },
  {
   "cell_type": "markdown",
   "metadata": {},
   "source": [
    "#### Floating point pitfalls"
   ]
  },
  {
   "cell_type": "code",
   "execution_count": null,
   "metadata": {},
   "outputs": [],
   "source": [
    "a = 0.3\n",
    "b = 0.1 + 0.1 + 0.1\n",
    "print(a == b)\n",
    "print(a , b)"
   ]
  },
  {
   "cell_type": "markdown",
   "metadata": {},
   "source": [
    "Can you guess what is happening? *Floating-point representation errors* happen because `float`s are stored in base-2 (binary) representation, where e.g. 0.1 does not have a finite decimal representation, and therefore must be approximated."
   ]
  }
 ],
 "metadata": {
  "kernelspec": {
   "display_name": "Python 3 (ipykernel)",
   "language": "python",
   "name": "python3"
  },
  "language_info": {
   "codemirror_mode": {
    "name": "ipython",
    "version": 3
   },
   "file_extension": ".py",
   "mimetype": "text/x-python",
   "name": "python",
   "nbconvert_exporter": "python",
   "pygments_lexer": "ipython3",
   "version": "3.12.2"
  },
  "vscode": {
   "interpreter": {
    "hash": "a27840a7b1c12ed5c4097e0c82ce74f146693c21815a51f33b43828b75394333"
   }
  }
 },
 "nbformat": 4,
 "nbformat_minor": 4
}
