{
 "cells": [
  {
   "cell_type": "markdown",
   "metadata": {},
   "source": [
    "# Iterations\n",
    "\n",
    "Today we are going to walk through controlling the execution flow of a program with conditional statements and using loops to execute a task for the items in a container. "
   ]
  },
  {
   "cell_type": "markdown",
   "metadata": {},
   "source": [
    "## 1. Conditional statements\n",
    "We have talked about booleans the last two lectures, but what are they useful for? Conditional statements using comparisons are one of the building blocks of computer programming. A condition controls the execution of a sequence based on a boolean value, which can be the result of a comparison operation. First, let's remind ourselves of all the comparison operators:\n",
    "\n",
    "`>`, `<`, `>=`, `<=`, `!=`, `==`\n",
    "\n",
    "We should also spell out the logical operations, which are the keywords `and`, `or` and `not`.\n",
    "\n",
    "Order of operations is important with the comparison and logical operators! \n",
    "1. Comparison operators\n",
    "2. `not`\n",
    "3. `and`\n",
    "4. `or`\n",
    "\n",
    "Getting the order of operations wrong can lead to problems."
   ]
  },
  {
   "cell_type": "code",
   "execution_count": 65,
   "metadata": {},
   "outputs": [
    {
     "ename": "SyntaxError",
     "evalue": "invalid syntax (1386348353.py, line 1)",
     "output_type": "error",
     "traceback": [
      "\u001b[0;36m  Cell \u001b[0;32mIn[65], line 1\u001b[0;36m\u001b[0m\n\u001b[0;31m    False == not True\u001b[0m\n\u001b[0m             ^\u001b[0m\n\u001b[0;31mSyntaxError\u001b[0m\u001b[0;31m:\u001b[0m invalid syntax\n"
     ]
    }
   ],
   "source": [
    "False == not True"
   ]
  },
  {
   "cell_type": "code",
   "execution_count": 66,
   "metadata": {},
   "outputs": [
    {
     "data": {
      "text/plain": [
       "True"
      ]
     },
     "execution_count": 66,
     "metadata": {},
     "output_type": "execute_result"
    }
   ],
   "source": [
    "False == (not True)"
   ]
  },
  {
   "cell_type": "markdown",
   "metadata": {},
   "source": [
    "Now let's introduce the `if-else` construct. Here there is some syntax to remember - be careful with colons!"
   ]
  },
  {
   "cell_type": "code",
   "execution_count": 1,
   "metadata": {},
   "outputs": [
    {
     "name": "stdout",
     "output_type": "stream",
     "text": [
      "a=2 is greater than ref_value=1\n"
     ]
    }
   ],
   "source": [
    "a = 2\n",
    "ref_value = 1\n",
    "if (a > ref_value):\n",
    "    print(f\"{a=} is greater than {ref_value=}\")\n",
    "else:\n",
    "    print(f\"{a=} is less than or equal to {ref_value=}\")\n",
    "# Change the value of a and run this cell again!"
   ]
  },
  {
   "cell_type": "markdown",
   "metadata": {},
   "source": [
    "We could have been tempted to write the condition directly as `a > 1` instead of using an auxiliary variable `ref_value`. However, this form allows us to avoid repetitions of `1` in our string and makes our code more easily reusable. When possible, make your code depend on *parameters* rather than literals. \n",
    "\n",
    "We can have cascaded selections using `elif`:"
   ]
  },
  {
   "cell_type": "code",
   "execution_count": 2,
   "metadata": {
    "scrolled": true
   },
   "outputs": [
    {
     "name": "stdout",
     "output_type": "stream",
     "text": [
      "a=0.5 is less than ref_value=1\n"
     ]
    }
   ],
   "source": [
    "a = 0.5\n",
    "ref_value = 1\n",
    "if (a == ref_value):\n",
    "    print(f\"{a=} is equal to {ref_value=}\")\n",
    "elif (a > ref_value):\n",
    "    print(f\"{a=} is greater than {ref_value=}\")\n",
    "else:\n",
    "    print(f\"{a=} is less than {ref_value=}\")\n",
    "# Change the value of a and run this cell again!"
   ]
  },
  {
   "cell_type": "markdown",
   "metadata": {},
   "source": [
    "### match-case (only since python 3.10!)\n",
    "This is also known as *switch-case* statement and has been part of other programming languages for ages. Surprisingly in python this has only been available since the recent 3.10 version. \n",
    "\n",
    "The `match` statement allows selection among different code blocks depending on the value of a variable:"
   ]
  },
  {
   "cell_type": "code",
   "execution_count": 3,
   "metadata": {},
   "outputs": [
    {
     "name": "stdout",
     "output_type": "stream",
     "text": [
      "I don't know how to write this number!\n"
     ]
    }
   ],
   "source": [
    "a = 4\n",
    "match a:\n",
    "    case 1:\n",
    "        print(\"one\")\n",
    "    case 2:\n",
    "        print(\"two\")\n",
    "    case 3:\n",
    "        print(\"three\")\n",
    "    case _:\n",
    "        print(\"I don't know how to write this number!\")\n",
    "# Change the value of a and see how the construct behaves..."
   ]
  },
  {
   "cell_type": "markdown",
   "metadata": {},
   "source": [
    "You can rewrite this using `if` and `elif`, but it will be much less nice to read!\n",
    "\n",
    "This feature is actually more powerful than we have shown here, as the argument of `match` can be a more sophisticated expression. For the time being, let's just take note of its existence."
   ]
  },
  {
   "cell_type": "markdown",
   "metadata": {},
   "source": [
    "## 2. Loops/Iteration\n",
    "\n",
    "Every algorithm can be built from a combination of three constructs:\n",
    "- tasks executed in a sequence\n",
    "- tasks executed according to conditionals\n",
    "- tasks executed in cycles (or loops).\n",
    "\n",
    "### Looping over a collection with `for`\n",
    "Loops are repetition of a sequence of instructions controlled by a membership statement: as long as the membership statement is true, the instructions are repeated. In `python`, loops can be a bit more abstract such as \"repeat a sequence of instructions for all the elements of a collection\", for example:"
   ]
  },
  {
   "cell_type": "code",
   "execution_count": 4,
   "metadata": {},
   "outputs": [
    {
     "name": "stdout",
     "output_type": "stream",
     "text": [
      "[1, 2, 3, 4, 5]\n",
      "1\n",
      "2\n",
      "3\n",
      "4\n",
      "5\n"
     ]
    }
   ],
   "source": [
    "# Loop over a list\n",
    "l = [1, 2, 3, 4, 5]\n",
    "print(l)\n",
    "for n in l:\n",
    "    print(n)"
   ]
  },
  {
   "cell_type": "code",
   "execution_count": 5,
   "metadata": {},
   "outputs": [
    {
     "name": "stdout",
     "output_type": "stream",
     "text": [
      "Germany Berlin\n",
      "France Paris\n",
      "Ireland Dublin\n"
     ]
    }
   ],
   "source": [
    "# Loop over a dictionary\n",
    "d = {'Germany':'Berlin', 'France':'Paris', 'Ireland':'Dublin'}\n",
    "for key in d:\n",
    "    value = d[key]\n",
    "    print(key, value)"
   ]
  },
  {
   "cell_type": "code",
   "execution_count": 6,
   "metadata": {},
   "outputs": [
    {
     "name": "stdout",
     "output_type": "stream",
     "text": [
      "l[0] is 1\n",
      "l[1] is 2\n",
      "l[2] is 3\n",
      "l[3] is 4\n",
      "l[4] is 5\n"
     ]
    }
   ],
   "source": [
    "# Loop over a list with an index\n",
    "i = 0\n",
    "for n in l:\n",
    "    print(f\"l[{i}] is {n}\")\n",
    "    i += 1"
   ]
  },
  {
   "cell_type": "markdown",
   "metadata": {},
   "source": [
    "### Introducing `range`"
   ]
  },
  {
   "cell_type": "code",
   "execution_count": 8,
   "metadata": {},
   "outputs": [
    {
     "name": "stdout",
     "output_type": "stream",
     "text": [
      "0\n",
      "1\n",
      "2\n",
      "3\n",
      "4\n"
     ]
    }
   ],
   "source": [
    "for i in range(5):\n",
    "    print(i)"
   ]
  },
  {
   "cell_type": "code",
   "execution_count": 9,
   "metadata": {},
   "outputs": [
    {
     "name": "stdout",
     "output_type": "stream",
     "text": [
      "12\n",
      "19\n",
      "26\n"
     ]
    }
   ],
   "source": [
    "for i in range(12,30,7):  # Start on 12, end on 29, steps of 7\n",
    "    print(i)"
   ]
  },
  {
   "cell_type": "markdown",
   "metadata": {
    "tags": []
   },
   "source": [
    "### Iterating over a group of lists"
   ]
  },
  {
   "cell_type": "code",
   "execution_count": 10,
   "metadata": {},
   "outputs": [],
   "source": [
    "# Lists we're going to need\n",
    "galaxy_names = [\"NGC 5128\", \"TXS 0506+056\", \"NGC 1068\", \"GB6 J1040+0617\", \"TXS 2226-184\"]\n",
    "distances_mpc = [3.7, 1.75e3, 14.4, 1.51e4, 107.1]  # Mpc\n",
    "luminosities = [1e40, 3e46, 4.9e38, 6.2e45, 5.5e41] # erg/s"
   ]
  },
  {
   "cell_type": "markdown",
   "metadata": {},
   "source": [
    "### Print name and distance of each galaxy in our list"
   ]
  },
  {
   "cell_type": "code",
   "execution_count": 11,
   "metadata": {},
   "outputs": [
    {
     "name": "stdout",
     "output_type": "stream",
     "text": [
      "Name: NGC 5128; D = 3.7 Mpc\n",
      "Name: TXS 0506+056; D = 1750.0 Mpc\n",
      "Name: NGC 1068; D = 14.4 Mpc\n",
      "Name: GB6 J1040+0617; D = 15100.0 Mpc\n",
      "Name: TXS 2226-184; D = 107.1 Mpc\n"
     ]
    }
   ],
   "source": [
    "for i in range(len(galaxy_names)):\n",
    "    print(f\"Name: {galaxy_names[i]}; D = {distances_mpc[i]} Mpc\")"
   ]
  },
  {
   "cell_type": "markdown",
   "metadata": {},
   "source": [
    "### More pythonic method - iterate directly over the list elements!\n",
    "Here we can use the zip() function, which takes a iterable (such as a list or dict) and returns an iterator. The iterator makes a tuple (or tuples) from elements of the iterable. If we have iterables of different lengths, we'll get tuples covering the shortest iterable. So if we have lists with 2, 3, and 4 elements, zip() will terminate after 2 tuples."
   ]
  },
  {
   "cell_type": "code",
   "execution_count": 12,
   "metadata": {},
   "outputs": [
    {
     "name": "stdout",
     "output_type": "stream",
     "text": [
      "(3.7, 1e+40)\n",
      "(1750.0, 3e+46)\n",
      "(14.4, 4.9e+38)\n",
      "(15100.0, 6.2e+45)\n",
      "(107.1, 5.5e+41)\n"
     ]
    }
   ],
   "source": [
    "# Print out tpules\n",
    "for pair in zip(distances_mpc, luminosities):\n",
    "    print(pair)"
   ]
  },
  {
   "cell_type": "code",
   "execution_count": 13,
   "metadata": {},
   "outputs": [
    {
     "name": "stdout",
     "output_type": "stream",
     "text": [
      "<zip object at 0x10396ca40>\n"
     ]
    },
    {
     "data": {
      "text/plain": [
       "[(3.7, 1e+40),\n",
       " (1750.0, 3e+46),\n",
       " (14.4, 4.9e+38),\n",
       " (15100.0, 6.2e+45),\n",
       " (107.1, 5.5e+41)]"
      ]
     },
     "execution_count": 13,
     "metadata": {},
     "output_type": "execute_result"
    }
   ],
   "source": [
    "pair = zip(distances_mpc, luminosities)\n",
    "print(pair)  # This just returns the iterator\n",
    "list(pair)   # This returns the tuples"
   ]
  },
  {
   "cell_type": "code",
   "execution_count": 14,
   "metadata": {},
   "outputs": [
    {
     "name": "stdout",
     "output_type": "stream",
     "text": [
      "3.7 1e+40\n",
      "1750.0 3e+46\n",
      "14.4 4.9e+38\n",
      "15100.0 6.2e+45\n",
      "107.1 5.5e+41\n"
     ]
    }
   ],
   "source": [
    "# Print out unpacked items in tuple\n",
    "for dist, lum in zip(distances_mpc, luminosities):\n",
    "    print(dist, lum)"
   ]
  },
  {
   "cell_type": "markdown",
   "metadata": {},
   "source": [
    "Let's try this with lists of different lengths."
   ]
  },
  {
   "cell_type": "code",
   "execution_count": 17,
   "metadata": {},
   "outputs": [
    {
     "name": "stdout",
     "output_type": "stream",
     "text": [
      "NGC 5128 3.7 1e+40\n",
      "TXS 0506+056 1750.0 3e+46\n"
     ]
    }
   ],
   "source": [
    "galaxy_names = [\"NGC 5128\", \"TXS 0506+056\", \"NGC 1068\", \"GB6 J1040+0617\", \"TXS 2226-184\"]\n",
    "distances_mpc = [3.7, 1.75e3]  # Mpc\n",
    "luminosities = [1e40, 3e46, 4.9e38] # erg/s\n",
    "\n",
    "for name, dist, lum in zip(galaxy_names, distances_mpc, luminosities):\n",
    "    print(name, dist, lum)"
   ]
  },
  {
   "cell_type": "code",
   "execution_count": 18,
   "metadata": {},
   "outputs": [],
   "source": [
    "# Redefine the full lists\n",
    "galaxy_names = [\"NGC 5128\", \"TXS 0506+056\", \"NGC 1068\", \"GB6 J1040+0617\", \"TXS 2226-184\"]\n",
    "distances_mpc = [3.7, 1.75e3, 14.4, 1.51e4, 107.1]  # Mpc\n",
    "luminosities = [1e40, 3e46, 4.9e38, 6.2e45, 5.5e41] # erg/s"
   ]
  },
  {
   "cell_type": "markdown",
   "metadata": {},
   "source": [
    "### Sidenote: be careful to use zip() with ordered iterables\n",
    "zip() on e.g. sets is not guaranteed to work well"
   ]
  },
  {
   "cell_type": "code",
   "execution_count": 21,
   "metadata": {},
   "outputs": [
    {
     "data": {
      "text/plain": [
       "[('TXS 0506+056', 3.7), ('NGC 5128', 1750.0), ('NGC 1068', 14.4)]"
      ]
     },
     "execution_count": 21,
     "metadata": {},
     "output_type": "execute_result"
    }
   ],
   "source": [
    "galaxy_names_set = {\"NGC 5128\", \"TXS 0506+056\", \"NGC 1068\"}\n",
    "distances_mpc_set = {3.7, 1.75e3, 14.4}\n",
    "list(zip(galaxy_names_set, distances_mpc_set))"
   ]
  },
  {
   "cell_type": "markdown",
   "metadata": {},
   "source": [
    "### Let's make the print-out more descriptive"
   ]
  },
  {
   "cell_type": "code",
   "execution_count": 22,
   "metadata": {},
   "outputs": [
    {
     "name": "stdout",
     "output_type": "stream",
     "text": [
      "Name: NGC 5128; D = 3.7 Mpc; L=1e+40 erg/s\n",
      "Name: TXS 0506+056; D = 1750.0 Mpc; L=3e+46 erg/s\n",
      "Name: NGC 1068; D = 14.4 Mpc; L=4.9e+38 erg/s\n",
      "Name: GB6 J1040+0617; D = 15100.0 Mpc; L=6.2e+45 erg/s\n",
      "Name: TXS 2226-184; D = 107.1 Mpc; L=5.5e+41 erg/s\n"
     ]
    }
   ],
   "source": [
    "for name, dist, lum in zip(galaxy_names, distances_mpc, luminosities):\n",
    "    print(f\"Name: {name}; D = {dist} Mpc; L={lum} erg/s\")"
   ]
  },
  {
   "cell_type": "markdown",
   "metadata": {},
   "source": [
    "### And now a little cosmetic improvement using f-strings"
   ]
  },
  {
   "cell_type": "code",
   "execution_count": 23,
   "metadata": {},
   "outputs": [
    {
     "name": "stdout",
     "output_type": "stream",
     "text": [
      "Name: NGC 5128       ; D =        3.7 Mpc;\n",
      "Name: TXS 0506+056   ; D =     1750.0 Mpc;\n",
      "Name: NGC 1068       ; D =       14.4 Mpc;\n",
      "Name: GB6 J1040+0617 ; D =    15100.0 Mpc;\n",
      "Name: TXS 2226-184   ; D =      107.1 Mpc;\n"
     ]
    }
   ],
   "source": [
    "for name, dist in zip(galaxy_names, distances_mpc):\n",
    "    print(f\"Name: {name:15}; D = {dist:10.1f} Mpc;\")\n",
    "    # print(f\"Name: {name:15}; D = {dist:8} Mpc;\")"
   ]
  },
  {
   "cell_type": "markdown",
   "metadata": {},
   "source": [
    "Extra points for scientific notation!"
   ]
  },
  {
   "cell_type": "code",
   "execution_count": 25,
   "metadata": {},
   "outputs": [
    {
     "name": "stdout",
     "output_type": "stream",
     "text": [
      "Name: NGC 5128       ; D = 3.7e+00 Mpc;\n",
      "Name: TXS 0506+056   ; D = 1.8e+03 Mpc;\n",
      "Name: NGC 1068       ; D = 1.4e+01 Mpc;\n",
      "Name: GB6 J1040+0617 ; D = 1.5e+04 Mpc;\n",
      "Name: TXS 2226-184   ; D = 1.1e+02 Mpc;\n"
     ]
    }
   ],
   "source": [
    "for name, dist in zip(galaxy_names, distances_mpc):\n",
    "    print(f\"Name: {name:15}; D = {dist:.1e} Mpc;\")  "
   ]
  },
  {
   "cell_type": "markdown",
   "metadata": {},
   "source": [
    "### Simplifying counting with `enumerate`"
   ]
  },
  {
   "cell_type": "code",
   "execution_count": 26,
   "metadata": {},
   "outputs": [
    {
     "data": {
      "text/plain": [
       "[(0, 'NGC 5128'),\n",
       " (1, 'TXS 0506+056'),\n",
       " (2, 'NGC 1068'),\n",
       " (3, 'GB6 J1040+0617'),\n",
       " (4, 'TXS 2226-184')]"
      ]
     },
     "execution_count": 26,
     "metadata": {},
     "output_type": "execute_result"
    }
   ],
   "source": [
    "list(enumerate(galaxy_names))"
   ]
  },
  {
   "cell_type": "code",
   "execution_count": 27,
   "metadata": {},
   "outputs": [
    {
     "name": "stdout",
     "output_type": "stream",
     "text": [
      "Position: 0; Name: NGC 5128\n",
      "Position: 1; Name: TXS 0506+056\n",
      "Position: 2; Name: NGC 1068\n",
      "Position: 3; Name: GB6 J1040+0617\n",
      "Position: 4; Name: TXS 2226-184\n"
     ]
    }
   ],
   "source": [
    "for i, name in enumerate(galaxy_names):\n",
    "    print(f\"Position: {i}; Name: {name}\")"
   ]
  },
  {
   "cell_type": "markdown",
   "metadata": {},
   "source": [
    "### Creating lists"
   ]
  },
  {
   "cell_type": "markdown",
   "metadata": {},
   "source": [
    "#### Convert distance list from Mpc to cm"
   ]
  },
  {
   "cell_type": "code",
   "execution_count": 28,
   "metadata": {},
   "outputs": [
    {
     "name": "stdout",
     "output_type": "stream",
     "text": [
      "[1.11e+25, 5.25e+27, 4.32e+25, 4.53e+28, 3.213e+26]\n"
     ]
    }
   ],
   "source": [
    "distances_cm = []  # Create a new list\n",
    "for d in distances_mpc:\n",
    "    distances_cm.append(d * 3e24)  # Use list's append() method to add items to new list\n",
    "\n",
    "print(distances_cm)"
   ]
  },
  {
   "cell_type": "markdown",
   "metadata": {},
   "source": [
    "#### Select distances < 100 Mpc and convert them to cm"
   ]
  },
  {
   "cell_type": "code",
   "execution_count": 29,
   "metadata": {},
   "outputs": [
    {
     "name": "stdout",
     "output_type": "stream",
     "text": [
      "Distance = 3.7 Mpc\n",
      "Distance = 14.4 Mpc\n",
      "[1.11e+25, 4.32e+25]\n"
     ]
    }
   ],
   "source": [
    "# Convert distance list from Mpc to cm\n",
    "short_distances_cm = []\n",
    "for d in distances_mpc:\n",
    "    if d < 100:\n",
    "        print(f\"Distance = {d} Mpc\")\n",
    "        short_distances_cm.append(d * 3e24)\n",
    "\n",
    "print(short_distances_cm)"
   ]
  },
  {
   "cell_type": "markdown",
   "metadata": {},
   "source": [
    "### Introducing list comprehension!\n",
    "List comprehension can be used to create lists. It allows us to rewrite a for loop in a single line, and can also be used for mapping and filtering. Below, we map a list of distances in Mpc to distances in cm (without having to use map()).\n",
    "\n",
    "List comprehension involves an expression, a member and an iterable:"
   ]
  },
  {
   "cell_type": "code",
   "execution_count": 30,
   "metadata": {},
   "outputs": [
    {
     "name": "stdout",
     "output_type": "stream",
     "text": [
      "[1.11e+25, 5.25e+27, 4.32e+25, 4.53e+28, 3.213e+26]\n"
     ]
    }
   ],
   "source": [
    "distances_cm = [d * 3e24 for d in distances_mpc]\n",
    "\n",
    "print(distances_cm)"
   ]
  },
  {
   "cell_type": "markdown",
   "metadata": {},
   "source": [
    "Here the expression is 'd*3e24', member is 'd' and iterable is 'distances_mpc'.\n",
    "\n",
    "We can also use list comprehension for filtering. "
   ]
  },
  {
   "cell_type": "code",
   "execution_count": 31,
   "metadata": {},
   "outputs": [
    {
     "name": "stdout",
     "output_type": "stream",
     "text": [
      "[1.11e+25, 4.32e+25]\n"
     ]
    }
   ],
   "source": [
    "# We can also select elements based on some criterium on the same one line:\n",
    "\n",
    "short_distances_cm = [d * 3e24 for d in distances_mpc if d < 100.]\n",
    "print(short_distances_cm)"
   ]
  },
  {
   "cell_type": "markdown",
   "metadata": {},
   "source": [
    "#### Get list of names based on distance critrion"
   ]
  },
  {
   "cell_type": "code",
   "execution_count": 32,
   "metadata": {},
   "outputs": [
    {
     "name": "stdout",
     "output_type": "stream",
     "text": [
      "['NGC 5128', 'NGC 1068']\n"
     ]
    }
   ],
   "source": [
    "closeby_galaxy_names = [name for name, dist in zip(galaxy_names, distances_mpc) if dist < 100 ]\n",
    "\n",
    "print(closeby_galaxy_names)"
   ]
  },
  {
   "cell_type": "markdown",
   "metadata": {},
   "source": [
    "You can do even more complicated list expressions"
   ]
  },
  {
   "cell_type": "code",
   "execution_count": 33,
   "metadata": {},
   "outputs": [
    {
     "name": "stdout",
     "output_type": "stream",
     "text": [
      "[3.7, 'Too far to care about!', 14.4, 'Too far to care about!', 'Too far to care about!']\n"
     ]
    }
   ],
   "source": [
    "distances_cm_or_opinion = [d if d < 100. else \"Too far to care about!\" for d in distances_mpc]\n",
    "print(distances_cm_or_opinion)"
   ]
  },
  {
   "cell_type": "markdown",
   "metadata": {},
   "source": [
    "### Sidenote: you can also use set comprehension in the same way\n",
    "With the caveat that if you are interested in the order of the elements, you don't want to use sets."
   ]
  },
  {
   "cell_type": "markdown",
   "metadata": {
    "tags": []
   },
   "source": [
    "### Counting number of members"
   ]
  },
  {
   "cell_type": "code",
   "execution_count": 34,
   "metadata": {},
   "outputs": [
    {
     "name": "stdout",
     "output_type": "stream",
     "text": [
      "2\n"
     ]
    }
   ],
   "source": [
    "# You can to this by building a list and checking its length:\n",
    "\n",
    "print(len(closeby_galaxy_names))"
   ]
  },
  {
   "cell_type": "code",
   "execution_count": 35,
   "metadata": {},
   "outputs": [
    {
     "name": "stdout",
     "output_type": "stream",
     "text": [
      "2\n"
     ]
    }
   ],
   "source": [
    "# Or better - if you don't need the list you don't have to create it \n",
    "\n",
    "count = 0\n",
    "\n",
    "for dist in distances_mpc:\n",
    "    if dist < 100:\n",
    "        count += 1\n",
    "print(count)"
   ]
  },
  {
   "cell_type": "markdown",
   "metadata": {},
   "source": [
    "## Simultaneously iterating through multiple lists without and with list comprehension"
   ]
  },
  {
   "cell_type": "code",
   "execution_count": 36,
   "metadata": {},
   "outputs": [
    {
     "name": "stdout",
     "output_type": "stream",
     "text": [
      "[6.4586861087531586e-12, 8.661493501599748e-11, 2.089386202070171e-14, 2.404282090867728e-13, 4.2396633647669894e-13]\n"
     ]
    }
   ],
   "source": [
    "from math import pi  # What does this mean?\n",
    "\n",
    "fluxes = []\n",
    "for lum, d_mpc in zip(luminosities, distances_mpc):\n",
    "    d_cm = d_mpc * 3e24\n",
    "    fluxes.append(lum / (4 * pi * d_cm ** 2))\n",
    "        \n",
    "print(fluxes)"
   ]
  },
  {
   "cell_type": "code",
   "execution_count": 37,
   "metadata": {},
   "outputs": [
    {
     "name": "stdout",
     "output_type": "stream",
     "text": [
      "[6.4586861087531586e-12, 8.661493501599748e-11, 2.089386202070171e-14, 2.404282090867728e-13, 4.2396633647669894e-13]\n"
     ]
    }
   ],
   "source": [
    "# Do the same using list comprehension!\n",
    "fluxes_new = [lum / (4 * pi * (d_mpc * 3e24) ** 2) for lum, d_mpc in zip(luminosities, distances_mpc)]\n",
    "print(fluxes_new)"
   ]
  },
  {
   "cell_type": "markdown",
   "metadata": {
    "tags": []
   },
   "source": [
    "### Iterating through tables with nested loops"
   ]
  },
  {
   "cell_type": "markdown",
   "metadata": {},
   "source": [
    "Here's a rather advanced example -  calculate a 2D table of fluxes based on the luminosities and distances. "
   ]
  },
  {
   "cell_type": "code",
   "execution_count": 38,
   "metadata": {},
   "outputs": [
    {
     "name": "stdout",
     "output_type": "stream",
     "text": [
      "2.404282090867728e-13\n"
     ]
    }
   ],
   "source": [
    "from math import pi\n",
    "\n",
    "flux_table = []  # Flux table is an empty list\n",
    "for lum in luminosities:\n",
    "    flux_table.append([])  # Flux table is an empty list of empty lists\n",
    "    for d_mpc in distances_mpc:\n",
    "        d_cm = d_mpc * 3e24\n",
    "        flux_table[-1].append(lum / (4 * pi * d_cm ** 2))  # Flux table is being filled up with luminosities\n",
    "        \n",
    "print(flux_table[3][3])"
   ]
  },
  {
   "cell_type": "markdown",
   "metadata": {},
   "source": [
    "Use list comprehension to rewrite the function in only one line!"
   ]
  },
  {
   "cell_type": "code",
   "execution_count": 39,
   "metadata": {},
   "outputs": [
    {
     "name": "stdout",
     "output_type": "stream",
     "text": [
      "2.404282090867728e-13\n"
     ]
    }
   ],
   "source": [
    "table = [[lum / (4 * pi * (d_mpc * 3e24) ** 2) for lum in luminosities] for d_mpc in distances_mpc]    \n",
    "\n",
    "print(table[3][3])"
   ]
  },
  {
   "cell_type": "markdown",
   "metadata": {},
   "source": [
    "### The `break` statement"
   ]
  },
  {
   "cell_type": "code",
   "execution_count": 40,
   "metadata": {},
   "outputs": [
    {
     "name": "stdout",
     "output_type": "stream",
     "text": [
      "Siya\n",
      "Tiya\n",
      "Guru\n",
      "Found the name Guru\n"
     ]
    }
   ],
   "source": [
    "my_list = [\"Siya\", \"Tiya\", \"Guru\", \"Buru\"]\n",
    "\n",
    "i = 0\n",
    "\n",
    "for i, name in enumerate(my_list):\n",
    "    print(my_list[i])\n",
    "    if (my_list[i] == 'Guru'):\n",
    "        print('Found the name Guru')\n",
    "        break"
   ]
  },
  {
   "cell_type": "markdown",
   "metadata": {},
   "source": [
    "#### Breaks in nested loops"
   ]
  },
  {
   "cell_type": "code",
   "execution_count": 44,
   "metadata": {},
   "outputs": [
    {
     "name": "stdout",
     "output_type": "stream",
     "text": [
      "i=0 and j=0\n",
      "i=0 and j=1\n",
      "i=0 and j=2\n",
      "i=0 and j=3\n",
      "i=1 and j=0\n",
      "i=1 and j=1\n",
      "i=1 and j=2\n",
      "i=1 and j=3\n",
      "i=2 and j=0\n",
      "i=2 and j=1\n",
      "i=2 and j=2\n",
      "i=2 and j=3\n",
      "i=3 and j=0\n",
      "i=3 and j=1\n",
      "i=3 and j=2\n",
      "i=3 and j=3\n",
      "Now let's add a break statement\n",
      "i=0 and j=0\n",
      "i=0 and j=1\n",
      "i=1 and j=0\n",
      "i=1 and j=1\n",
      "i=2 and j=0\n",
      "i=2 and j=1\n",
      "i=3 and j=0\n",
      "i=3 and j=1\n"
     ]
    }
   ],
   "source": [
    "for i in range(4):\n",
    "    for j in range(4):          \n",
    "        print(f\"i={i} and j={j}\");  \n",
    "        \n",
    "print(\"Now let's add a break statement\")\n",
    "\n",
    "# What's the output of the following code?\n",
    "for i in range(4):\n",
    "    for j in range(4):          \n",
    "        if j == 2: \n",
    "            break\n",
    "        print(f\"i={i} and j={j}\");  "
   ]
  },
  {
   "cell_type": "markdown",
   "metadata": {},
   "source": [
    "### The `continue` statement"
   ]
  },
  {
   "cell_type": "code",
   "execution_count": 45,
   "metadata": {},
   "outputs": [
    {
     "name": "stdout",
     "output_type": "stream",
     "text": [
      "0 is even\n",
      "2 is even\n",
      "4 is even\n",
      "6 is even\n",
      "8 is even\n"
     ]
    }
   ],
   "source": [
    "for i in range(10): \n",
    "    if i % 2:\n",
    "        continue\n",
    "    print(f\"{i} is even\")"
   ]
  },
  {
   "cell_type": "code",
   "execution_count": 46,
   "metadata": {},
   "outputs": [
    {
     "name": "stdout",
     "output_type": "stream",
     "text": [
      "1 is odd\n",
      "3 is odd\n",
      "5 is odd\n",
      "7 is odd\n",
      "9 is odd\n"
     ]
    }
   ],
   "source": [
    "for i in range(10):    \n",
    "    if not i % 2: \n",
    "        continue\n",
    "    print(f\"{i} is odd\")"
   ]
  },
  {
   "cell_type": "markdown",
   "metadata": {},
   "source": [
    "#### Reprise: breaks in nested loops"
   ]
  },
  {
   "cell_type": "code",
   "execution_count": 47,
   "metadata": {},
   "outputs": [
    {
     "name": "stdout",
     "output_type": "stream",
     "text": [
      "2 and 0\n",
      "2 and 1\n",
      "2 and 2\n",
      "2 and 3\n",
      "3 and 0\n",
      "3 and 1\n",
      "3 and 2\n",
      "3 and 3\n"
     ]
    }
   ],
   "source": [
    "# What's the output of the following code?\n",
    "for i in range(4):\n",
    "    if i < 2:\n",
    "        continue\n",
    "    for j in range(4):          \n",
    "        print(f\"{i} and {j}\");  "
   ]
  },
  {
   "cell_type": "markdown",
   "metadata": {},
   "source": [
    "### The `while` loop\n",
    "`while` loops are an alternative to `for` loops. An operation is performed until a condition is met. This can be useful in cases where there is a user input involved, or a desired condition that will be met after an unknown number of operations (for example, achieving desired precision on a numerical calculation."
   ]
  },
  {
   "cell_type": "code",
   "execution_count": 48,
   "metadata": {},
   "outputs": [
    {
     "name": "stdout",
     "output_type": "stream",
     "text": [
      "Name: NGC 5128; D = 3.7 Mpc\n",
      "Name: TXS 0506+056; D = 1750.0 Mpc\n",
      "Name: NGC 1068; D = 14.4 Mpc\n",
      "Name: GB6 J1040+0617; D = 15100.0 Mpc\n",
      "Name: TXS 2226-184; D = 107.1 Mpc\n"
     ]
    }
   ],
   "source": [
    "i = 0\n",
    "while ( i < len(galaxy_names) ):\n",
    "    print(f\"Name: {galaxy_names[i]}; D = {distances_mpc[i]} Mpc\")\n",
    "    i=i+1"
   ]
  },
  {
   "cell_type": "markdown",
   "metadata": {},
   "source": [
    "Filtering within the `while` loop is also possible, with similar behavior to the break statement in a `for` loop."
   ]
  },
  {
   "cell_type": "code",
   "execution_count": 49,
   "metadata": {},
   "outputs": [
    {
     "name": "stdout",
     "output_type": "stream",
     "text": [
      "Name: NGC 5128; D = 3.7 Mpc\n"
     ]
    }
   ],
   "source": [
    "i = 0\n",
    "while ( distances_mpc[i] < 100 ):\n",
    "    print(f\"Name: {galaxy_names[i]}; D = {distances_mpc[i]} Mpc\")\n",
    "    i=i+1"
   ]
  },
  {
   "cell_type": "markdown",
   "metadata": {},
   "source": [
    "### From lists to dictionaries\n",
    "Create dictionary mapping `galaxy_name` to `luminosity`"
   ]
  },
  {
   "cell_type": "code",
   "execution_count": 50,
   "metadata": {},
   "outputs": [
    {
     "name": "stdout",
     "output_type": "stream",
     "text": [
      "{'NGC 5128': 1e+40, 'TXS 0506+056': 3e+46, 'NGC 1068': 4.9e+38, 'GB6 J1040+0617': 6.2e+45, 'TXS 2226-184': 5.5e+41}\n",
      "3e+46\n"
     ]
    }
   ],
   "source": [
    "galaxy_luminosities = {}\n",
    "\n",
    "for name, lum in zip(galaxy_names, luminosities):\n",
    "    galaxy_luminosities[name] = lum\n",
    "\n",
    "print(galaxy_luminosities)\n",
    "print(galaxy_luminosities[\"TXS 0506+056\"])"
   ]
  },
  {
   "cell_type": "markdown",
   "metadata": {},
   "source": [
    "#### A more pythonic way"
   ]
  },
  {
   "cell_type": "code",
   "execution_count": 51,
   "metadata": {},
   "outputs": [
    {
     "name": "stdout",
     "output_type": "stream",
     "text": [
      "3e+46\n"
     ]
    }
   ],
   "source": [
    "galaxy_luminosities = {name:lum for name, lum in zip(galaxy_names, luminosities)}\n",
    "\n",
    "print(galaxy_luminosities[\"TXS 0506+056\"])"
   ]
  },
  {
   "cell_type": "markdown",
   "metadata": {},
   "source": [
    "#### An even more pythonic way"
   ]
  },
  {
   "cell_type": "code",
   "execution_count": 52,
   "metadata": {},
   "outputs": [
    {
     "name": "stdout",
     "output_type": "stream",
     "text": [
      "3e+46\n"
     ]
    }
   ],
   "source": [
    "galaxy_luminosities = dict(zip(galaxy_names, luminosities))\n",
    "\n",
    "print(galaxy_luminosities[\"TXS 0506+056\"])"
   ]
  },
  {
   "cell_type": "markdown",
   "metadata": {},
   "source": [
    "## Iterate through dictionaries"
   ]
  },
  {
   "cell_type": "code",
   "execution_count": 53,
   "metadata": {},
   "outputs": [
    {
     "name": "stdout",
     "output_type": "stream",
     "text": [
      "NGC 5128        has 1.00e+40 erg/s \n",
      "TXS 0506+056    has 3.00e+46 erg/s \n",
      "NGC 1068        has 4.90e+38 erg/s \n",
      "GB6 J1040+0617  has 6.20e+45 erg/s \n",
      "TXS 2226-184    has 5.50e+41 erg/s \n"
     ]
    }
   ],
   "source": [
    "for k in galaxy_luminosities:\n",
    "    print(f\"{k:15s} has {galaxy_luminosities[k]:.2e} erg/s \")"
   ]
  },
  {
   "cell_type": "markdown",
   "metadata": {},
   "source": [
    "#### A more pythonic way using the .items() method:"
   ]
  },
  {
   "cell_type": "code",
   "execution_count": 55,
   "metadata": {},
   "outputs": [
    {
     "name": "stdout",
     "output_type": "stream",
     "text": [
      "NGC 5128        has 1.00e+40 erg/s \n",
      "TXS 0506+056    has 3.00e+46 erg/s \n",
      "NGC 1068        has 4.90e+38 erg/s \n",
      "GB6 J1040+0617  has 6.20e+45 erg/s \n",
      "TXS 2226-184    has 5.50e+41 erg/s \n"
     ]
    }
   ],
   "source": [
    "for k, v in galaxy_luminosities.items():\n",
    "    print(f\"{k:15s} has {v:.2e} erg/s \")"
   ]
  },
  {
   "cell_type": "markdown",
   "metadata": {},
   "source": [
    "#### Create a dictionary mapping galaxy names to their observed flux\n",
    "You can use dictionary comprehension, which is similar to list comprehension, but uses a key."
   ]
  },
  {
   "cell_type": "code",
   "execution_count": 56,
   "metadata": {},
   "outputs": [
    {
     "name": "stdout",
     "output_type": "stream",
     "text": [
      "NGC 5128        has an observed flux of 6.46e-12 erg/cm2/s\n",
      "TXS 0506+056    has an observed flux of 8.66e-11 erg/cm2/s\n",
      "NGC 1068        has an observed flux of 2.09e-14 erg/cm2/s\n",
      "GB6 J1040+0617  has an observed flux of 2.40e-13 erg/cm2/s\n",
      "TXS 2226-184    has an observed flux of 4.24e-13 erg/cm2/s\n"
     ]
    }
   ],
   "source": [
    "from math import pi\n",
    "\n",
    "obs_flux = {name : lum / (4 * pi * (d * 3e24) ** 2) for name, lum, d in zip(galaxy_names, \n",
    "                                                                      luminosities,\n",
    "                                                                      distances_mpc) }\n",
    "for name, flux in obs_flux.items():\n",
    "    print(f\"{name :15s} has an observed flux of {flux:.2e} erg/cm2/s\")"
   ]
  },
  {
   "cell_type": "markdown",
   "metadata": {},
   "source": [
    "## Closing note: keeping performance in mind\n",
    "List comprehension results in nice code, but if you are making a very large list, you can run into memory problems. You might be better off considering using a generator, which stores an iterable rather than a large list. This might be preferable when working with large datasets. See https://realpython.com/introduction-to-python-generators/ for more details."
   ]
  },
  {
   "cell_type": "code",
   "execution_count": 63,
   "metadata": {},
   "outputs": [
    {
     "data": {
      "text/plain": [
       "41666665416666675000000"
      ]
     },
     "execution_count": 63,
     "metadata": {},
     "output_type": "execute_result"
    }
   ],
   "source": [
    "# This is memory-intensive\n",
    "sum([n * n for n in range(50000000)])"
   ]
  },
  {
   "cell_type": "code",
   "execution_count": 64,
   "metadata": {},
   "outputs": [
    {
     "data": {
      "text/plain": [
       "41666654166667500000"
      ]
     },
     "execution_count": 64,
     "metadata": {},
     "output_type": "execute_result"
    }
   ],
   "source": [
    "# This is less memory-intensive\n",
    "sum(n * n for n in range(5000000))"
   ]
  },
  {
   "cell_type": "code",
   "execution_count": null,
   "metadata": {},
   "outputs": [],
   "source": []
  }
 ],
 "metadata": {
  "kernelspec": {
   "display_name": "Python 3 (ipykernel)",
   "language": "python",
   "name": "python3"
  },
  "language_info": {
   "codemirror_mode": {
    "name": "ipython",
    "version": 3
   },
   "file_extension": ".py",
   "mimetype": "text/x-python",
   "name": "python",
   "nbconvert_exporter": "python",
   "pygments_lexer": "ipython3",
   "version": "3.12.2"
  },
  "vscode": {
   "interpreter": {
    "hash": "ad60ba3d6748ebfd779dff164ecdca54fbf007dbac97c522a9077ed5230659e8"
   }
  }
 },
 "nbformat": 4,
 "nbformat_minor": 4
}
